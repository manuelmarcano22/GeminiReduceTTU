{
 "cells": [
  {
   "cell_type": "code",
   "execution_count": 1,
   "metadata": {},
   "outputs": [
    {
     "name": "stderr",
     "output_type": "stream",
     "text": [
      "uparm parameter list `/home/mmarcano/anaconda3/envs/Gemini/iraf/noao/imred/ccdred/ccdtest/ccdtest.par' inconsistent with default parameters for IrafPkg `ccdtest'\n"
     ]
    }
   ],
   "source": [
    "from stsci.tools import capable\n",
    "capable.OF_GRAPHICS = False\n",
    "\n",
    "from pyraf import iraf\n",
    "from pyraf.iraf import gemini, gemtools, gmos, onedspec\n",
    "import fileSelect as fs\n",
    "import copy, os\n",
    "from astropy.io import fits\n"
   ]
  },
  {
   "cell_type": "code",
   "execution_count": 2,
   "metadata": {},
   "outputs": [
    {
     "data": {
      "text/plain": [
       "u'/home/mmarcano/Documents/GeminiReduceTTU/Object15'"
      ]
     },
     "execution_count": 2,
     "metadata": {},
     "output_type": "execute_result"
    }
   ],
   "source": [
    "pwd"
   ]
  },
  {
   "cell_type": "markdown",
   "metadata": {},
   "source": [
    "First specified the directory where all the data was downloaded and extracted. Then defined the sqlite3 database. This contains the information of all the files. This obsLog.sqlite3 file was created by the python script obslog.py in the raw data directory. The script will create a database with the fields and metadata"
   ]
  },
  {
   "cell_type": "code",
   "execution_count": 3,
   "metadata": {},
   "outputs": [],
   "source": [
    "datadirall = '../raw/'\n",
    "databasename = datadirall+'obsLog.sqlite3'\n",
    "dbFile= datadirall+'obsLog.sqlite3'"
   ]
  },
  {
   "cell_type": "markdown",
   "metadata": {},
   "source": [
    " From the work_directory:\n",
    " Create the query dictionary of essential parameter=value pairs."
   ]
  },
  {
   "cell_type": "code",
   "execution_count": 4,
   "metadata": {},
   "outputs": [],
   "source": [
    "qd = {'Full':{'use_me':1,\n",
    "       'Instrument':'GMOS-S','CcdBin':'2 2','RoI':'Full',\n",
    "       'Disperser':'R400+_G5325','CentWave':646.0,'AperMask':'0.5arcsec',\n",
    "       'Object':'Obj-15',\n",
    "       'DateObs':'2018-09-15:2018-09-30'}\n",
    "      }\n"
   ]
  },
  {
   "cell_type": "markdown",
   "metadata": {},
   "source": [
    " In the tutorial there are two regions but here only one and it is full. Just changed the regions list to only Full. It should work. Bias only depend on:\n",
    " instrument Roi and CcdBin according to fileSelect file\n",
    " \n",
    "     use_me=1 AND ObsType='BIAS' AND ObsClass LIKE '%Cal'\n",
    "    AND Instrument=:Instrument AND RoI=:RoI AND CcdBin=:CcdBin"
   ]
  },
  {
   "cell_type": "code",
   "execution_count": 5,
   "metadata": {},
   "outputs": [
    {
     "name": "stdout",
     "output_type": "stream",
     "text": [
      "ERROR - GBIAS: Output file MCbiasFull.fits already exists.\n"
     ]
    }
   ],
   "source": [
    "gemtools.gemextn.unlearn()    # Disarm a bug in gbias\n",
    "gmos.gbias.unlearn()\n",
    "biasFlags = {\n",
    "    'logfile':'biasLog.txt','rawpath':'../raw/','fl_vardq':'yes','verbose':'no'\n",
    "}\n",
    "regions = ['Full']\n",
    "for r in regions:\n",
    "    # The following SQL generates the list of full-frame files to process.\n",
    "    SQL = fs.createQuery('bias', qd[r])\n",
    "    biasFiles = fs.fileListQuery(dbFile, SQL, qd[r])\n",
    "\n",
    "    # The str.join() funciton is needed to transform a python list into a\n",
    "    # comma-separated string of file names that IRAF can understand.\n",
    "    if len(biasFiles) > 1:\n",
    "        gmos.gbias(','.join(str(x) for x in biasFiles), 'MCbias'+r,\n",
    "                   **biasFlags)"
   ]
  },
  {
   "cell_type": "markdown",
   "metadata": {},
   "source": [
    "# Flat Field"
   ]
  },
  {
   "cell_type": "code",
   "execution_count": 6,
   "metadata": {},
   "outputs": [
    {
     "name": "stdout",
     "output_type": "stream",
     "text": [
      "ERROR - GSFLAT: Output file MCflatFull already exists.\n",
      "ERROR - GSFLAT: 1 fatal errors found.\n",
      " \n",
      "ERROR - GSFLAT: Program execution failed with 1 errors.\n"
     ]
    }
   ],
   "source": [
    "# Set the task parameters.\n",
    "qd['Full'].update({'DateObs':'*'})\n",
    "gmos.gireduce.unlearn()\n",
    "gmos.gsflat.unlearn()\n",
    "# The response fitting should be done interactively.\n",
    "flatFlags = {\n",
    "    'fl_over':'yes','fl_trim':'yes','fl_bias':'yes','fl_dark':'no',\n",
    "    'fl_fixpix':'no','fl_oversize':'no','fl_vardq':'yes','fl_fulldq':'yes',\n",
    "    'rawpath':'../raw/','fl_inter':'no','fl_detec':'yes',\n",
    "    'function':'spline3','order':'13,11,28',\n",
    "    'logfile':'gsflatLog.txt','verbose':'no'\n",
    "    }\n",
    "for r in regions:\n",
    "    qr = qd[r]\n",
    "    flatFiles = fs.fileListQuery(dbFile, fs.createQuery('gcalFlat', qr), qr)\n",
    "    if len(flatFiles) > 0:\n",
    "        gmos.gsflat (','.join(str(x) for x in flatFiles), 'MCflat'+r,\n",
    "                bias='MCbias'+r, **flatFlags)\n"
   ]
  },
  {
   "cell_type": "markdown",
   "metadata": {},
   "source": [
    "# Basic Reduction"
   ]
  },
  {
   "cell_type": "code",
   "execution_count": 7,
   "metadata": {},
   "outputs": [
    {
     "name": "stdout",
     "output_type": "stream",
     "text": [
      "GPREPARE: Using MDF defined in the header 0.5arcsec\n",
      "GPREPARE: Using MDF defined in the header 0.5arcsec\n",
      "GPREPARE: Using MDF defined in the header 0.5arcsec\n",
      "GPREPARE: Using MDF defined in the header 0.5arcsec\n",
      "GPREPARE: Using MDF defined in the header 0.5arcsec\n",
      "GPREPARE: Using MDF defined in the header 0.5arcsec\n",
      "WARNING - GIREDUCE: Bad Pixel Mask filename is an empty string\n",
      "                    Only saturated pixels will be flagged\n",
      "GPREPARE: Using MDF defined in the header 0.5arcsec\n",
      "WARNING - GIREDUCE: Bad Pixel Mask filename is an empty string\n",
      "                    Only saturated pixels will be flagged\n"
     ]
    }
   ],
   "source": [
    "# Set task parameters.\n",
    "gmos.gsreduce.unlearn()\n",
    "sciFlags = {\n",
    "    'fl_over':'yes','fl_trim':'yes','fl_bias':'yes','fl_gscrrej':'no',\n",
    "    'fl_dark':'no','fl_flat':'yes','fl_gmosaic':'yes','fl_fixpix':'no',\n",
    "    'fl_gsappwave':'yes','fl_oversize':'no',\n",
    "    'fl_vardq':'yes','fl_fulldq':'yes','rawpath':'../raw/',\n",
    "    'fl_inter':'no','logfile':'gsreduceLog.txt','verbose':'no'\n",
    "}\n",
    "arcFlags = copy.deepcopy(sciFlags)\n",
    "arcFlags.update({'fl_flat':'no','fl_vardq':'no','fl_fulldq':'no'})\n",
    "\n",
    "\n",
    "# Arc exposures\n",
    "for r in regions:\n",
    "    qr = qd[r]\n",
    "    arcFiles = fs.fileListQuery(dbFile, fs.createQuery('arc', qr), qr)\n",
    "    if len(arcFiles) > 0:\n",
    "        gmos.gsreduce (','.join(str(x) for x in arcFiles), bias='MCbias'+r,\n",
    "                  **arcFlags)\n",
    "\n",
    "\n",
    "# Science exposures\n",
    "r = 'Full'\n",
    "sciFiles = fs.fileListQuery(dbFile, fs.createQuery('sciSpec', qd[r]), qd[r])\n",
    "if len(sciFiles) > 0:\n",
    "    gmos.gsreduce (','.join(str(x) for x in sciFiles), bias='MCbias'+r,\n",
    "              flatim='MCflat'+r, **sciFlags)"
   ]
  },
  {
   "cell_type": "markdown",
   "metadata": {},
   "source": [
    "# Wavelength Calibration (Check this later)\n",
    "\n",
    "**Image rectification and wavelength linearization depend upon the wavelength calibration, using the arc lamp exposures taken immediately before each sequence of science and standard star exposures** (see Wavelength Calibration). In this case, the default medium-resolution line list will work well. The fit to the dispersion relation should be performed interactively, but for expediency we will use a previously determined functional fit. \n",
    "\n",
    "\n",
    "I had tpo manually put the name of the two arc Files. I am not sure how may to use. \n",
    "\n",
    "\n",
    "- [ ] On that day there is only one arc\n",
    "\n",
    "\n",
    "Science ones are:\n",
    "\n",
    "- S20181004S0022.fits \n",
    "- S20181004S0022.fits \n",
    "\n",
    "at 23:53 and 23:55\n",
    "\n",
    "The closet arc is on 2018-10-04 called :S20181004S0209.fits\n",
    "\n",
    "## But his depends on CentWave\n",
    "\n",
    "for other one do:\n",
    "\n",
    "S20181004S0210.fits"
   ]
  },
  {
   "cell_type": "code",
   "execution_count": 8,
   "metadata": {},
   "outputs": [],
   "source": [
    "iraf.imdel('gS2018*.fits,gsS2018*.fits')"
   ]
  },
  {
   "cell_type": "code",
   "execution_count": 9,
   "metadata": {},
   "outputs": [],
   "source": [
    "arcname = 'S20180717S0063'"
   ]
  },
  {
   "cell_type": "code",
   "execution_count": 10,
   "metadata": {},
   "outputs": [
    {
     "name": "stdout",
     "output_type": "stream",
     "text": [
      "ERROR - GSWAVELENGTH: gsS20180717S0063 does not exist or is not a MEF\n"
     ]
    }
   ],
   "source": [
    "# Set task parameters\n",
    "gmos.gswavelength.unlearn()\n",
    "waveFlags = {\n",
    "    'coordlist':'gmos$data/CuAr_GMOS.dat','fwidth':6,'nsum':50,\n",
    "    'function':'chebyshev','order':5,\n",
    "    'fl_inter':'no','logfile':'gswaveLog.txt','verbose':'no'\n",
    "    }\n",
    "# Must select specific wavecals to match science exposures.\n",
    "prefix = 'gs'\n",
    "for arc in [arcname]:\n",
    "     gmos.gswavelength (prefix+arc, **waveFlags)"
   ]
  },
  {
   "cell_type": "markdown",
   "metadata": {},
   "source": [
    "# Advanced Processing\n",
    "\n",
    "\n",
    "In the example tutorial:\n",
    "\n",
    ">The targets in this program were observed in 3 slit orientations, and a few exposures were obtained at each position. This provides an opportunity to combine the sequential exposures at each position to remove cosmic rays, rather than rejecting CRs on single frames using the gsreduce.fl_gscrrej+ flag or running the gemcrspec task. The combined exposures for each target are then wavelength calibrated, and sky subtracted. First set the processing parameters.\n",
    "\n",
    "Here we have two exposures of the same thing. Supposed it is the same. "
   ]
  },
  {
   "cell_type": "code",
   "execution_count": 20,
   "metadata": {},
   "outputs": [],
   "source": [
    "# Set task parameters.\n",
    "gemtools.gemcombine.unlearn()\n",
    "sciCombFlags = {\n",
    "    'combine':'average','reject':'ccdclip',\n",
    "    'fl_vardq':'yes','fl_dqprop':'yes',\n",
    "    'logfile':'gemcombineLog.txt.txt','verbose':'no'\n",
    "}\n",
    "stdCombFlags = copy.deepcopy(sciCombFlags)\n",
    "stdCombFlags.update({'fl_vardq':'no','fl_dqprop':'no'})\n",
    "gmos.gstransform.unlearn()\n",
    "transFlags = {\n",
    "    'fl_vardq':'yes','interptype':'linear','fl_flux':'yes',\n",
    "    'logfile':'gstransLog.txt'\n",
    "}\n",
    "# The sky regions should be selected with care, using e.g. prows/pcols:\n",
    "#   pcols (\"tAM2306b.fits[SCI]\", 1100, 2040, wy1=40, wy2=320)\n",
    "gmos.gsskysub.unlearn()\n",
    "skyFlags = {\n",
    "    'fl_oversize':'no','fl_vardq':'yes','logfile':'gsskysubLog.txt'\n",
    "}"
   ]
  },
  {
   "cell_type": "markdown",
   "metadata": {},
   "source": [
    "# Science Targets\n",
    "\n",
    "have to put the bad colum in *list one* to fix an also manually change the arc and sky postion to substract."
   ]
  },
  {
   "cell_type": "code",
   "execution_count": 22,
   "metadata": {},
   "outputs": [
    {
     "name": "stdout",
     "output_type": "stream",
     "text": [
      "ERROR - GEMCOMBINE: Output file Obj15 already exists.\n"
     ]
    }
   ],
   "source": [
    "sciTargets = {\n",
    "    'Obj-15':{'arc':'gs'+arcname,'sky':'100:700'},\n",
    "}\n",
    "\n",
    "for targ,p in sciTargets.iteritems():\n",
    "    qs = qd['Full']\n",
    "    qs['Object'] = targ\n",
    "    # Fix up the target name for the output file\n",
    "    #sciOut = targ.split('-')[0]+targ[-1]\n",
    "    sciOut = targ.split('-')[0]+targ.split('-')[1]\n",
    "    sciFiles = fs.fileListQuery(dbFile, fs.createQuery('sciSpec', qs), qs)\n",
    "    gemtools.gemcombine (','.join(prefix+str(x) for x in sciFiles),\n",
    "                         sciOut, **sciCombFlags)"
   ]
  },
  {
   "cell_type": "code",
   "execution_count": 23,
   "metadata": {},
   "outputs": [
    {
     "name": "stdout",
     "output_type": "stream",
     "text": [
      "FIXPIX: image tempstObj.fits[SCI,1] with mask maskbadcol.pl\n",
      "tmpdqeObj15.fits[*,*] -> eObj15.fits[dq,1][*,*]\n",
      "-------------------------------------------------------------------------------\n",
      "GSTRANSFORM -- Fri Nov 30 16:08:01 CST 2018\n",
      " \n",
      "\n",
      "inimages   = eObj15.fits\n",
      "outimages  = \n",
      "outprefix  = t\n",
      "fl_stran   = no\n",
      "fl_wavtran = yes\n",
      "wavtraname = gsS20180717S0063\n",
      "database   = database\n",
      "fl_vardq   = yes\n",
      "interptype = linear\n",
      "lambda1    = INDEF\n",
      "lambda2    = INDEF\n",
      "dx         = INDEF\n",
      "nx         = INDEF\n",
      "lambdalog  = no\n",
      "ylog       = no\n",
      "fl_flux    = yes\n",
      "gratingdb  = gmos$data/GMOSgratings.dat\n",
      "filterdb   = gmos$data/GMOSfilters.dat\n",
      "key_dispaxis = DISPAXIS\n",
      "dispaxis   = 1\n",
      "sci_ext    = SCI\n",
      "var_ext = VAR\n",
      "dq_ext  = DQ\n",
      "\n",
      "Transforming eObj15.fits[SCI,1]\n",
      "MDF row: 1\n",
      "\n",
      "NOAO/IRAF V2.16 mmarcano@tux Fri 16:08:02 30-Nov-2018\n",
      "  Transform eObj15.fits[SCI,1] to tmpsci10935_2163.\n",
      "  Conserve flux per pixel.\n",
      "  User coordinate transformations:\n",
      "    gsS20180717S0063_001\n",
      "  Interpolation is linear.\n",
      "  Using edge extension for out of bounds pixel values.\n",
      "  Output coordinate parameters are:\n",
      "    x1 =      4153., x2 =      8821., dx =      1.491, nx = 3132, xlog = no\n",
      "    y1 =         1., y2 =      2088., dy =         1., ny = 2088, ylog = no\n",
      "\n",
      "NOAO/IRAF V2.16 mmarcano@tux Fri 16:08:03 30-Nov-2018\n",
      "  Transform eObj15.fits[VAR,1] to tmpvar10935_2164.\n",
      "  Conserve flux per pixel.\n",
      "  User coordinate transformations:\n",
      "    gsS20180717S0063_001\n",
      "  Interpolation is linear.\n",
      "  Using edge extension for out of bounds pixel values.\n",
      "  Output coordinate parameters are:\n",
      "    x1 =      4153., x2 =      8821., dx =      1.491, nx = 3132, xlog = no\n",
      "    y1 =         1., y2 =      2088., dy =         1., ny = 2088, ylog = no\n",
      "\n",
      "NOAO/IRAF V2.16 mmarcano@tux Fri 16:08:04 30-Nov-2018\n",
      "  Transform eObj15.fits[DQ,1] to tmpdq10935_2165.\n",
      "  User coordinate transformations:\n",
      "    gsS20180717S0063_001\n",
      "  Interpolation is linear.\n",
      "  Using edge extension for out of bounds pixel values.\n",
      "  Output coordinate parameters are:\n",
      "    x1 =      4153., x2 =      8821., dx =      1.491, nx = 3132, xlog = no\n",
      "    y1 =         1., y2 =      2088., dy =         1., ny = 2088, ylog = no\n",
      "\n",
      "GSTRANSFORM exit status: good\n",
      "-------------------------------------------------------------------------------\n",
      "\n",
      "----------------------------------------------------------------------------\n",
      "GSSKYSUB -- Fri Nov 30 16:08:05 CST 2018\n",
      "\n",
      "input        = teObj15.fits\n",
      "output       = \n",
      "outpref      = s\n",
      "fl_vardq     = yes\n",
      "fl_oversize  = no\n",
      "sci_ext      = SCI\n",
      "var_ext      = VAR\n",
      "dq_ext       = DQ\n",
      "long_sample  = 100:700\n",
      "mos_sample   = 0.9\n",
      "mosobjsize   = 1.0\n",
      "naverage     = 1\n",
      "function     = chebyshev\n",
      "order        = 1\n",
      "low_reject   = 2.5\n",
      "high_reject  = 2.5\n",
      "niterate     = 2\n",
      "grow         = 0.0\n",
      "fl_inter     = no\n",
      "\n",
      " \n",
      "GSSKYSUB: Sky-subtraction started\n",
      " \n",
      "  Input image     = teObj15.fits\n",
      "  Output image    = steObj15.fits\n",
      "  Observing mode  = LONGSLIT\n",
      "  Number of slits = 1\n",
      "  Slit #1 ; background sample = [100:700]\n",
      "         RMS of the fit (for VAR plane propagation) = 2110.263\n",
      "\n",
      "GSSKYSUB done. Exit status good -- Fri Nov 30 16:08:15 CST 2018\n",
      "-------------------------------------------------------------------------------\n",
      "\n"
     ]
    }
   ],
   "source": [
    "\n",
    "\n",
    "for targ,p in sciTargets.iteritems():\n",
    "\n",
    "    qs = qd['Full']\n",
    "    qs['Object'] = targ\n",
    "    # Fix up the target name for the output file\n",
    "    sciOut = targ.split('-')[0]+targ.split('-')[1]\n",
    "    sciFiles = fs.fileListQuery(dbFile, fs.createQuery('sciSpec', qs), qs)\n",
    "    \n",
    "    \n",
    "    #interpolate\n",
    "    scienceobect = sciOut+'.fits'\n",
    "    \n",
    "    a = fits.open(sciOut+'.fits')\n",
    "    axis1 = a[1].header['NAXIS1']\n",
    "    axis2 = a[1].header['NAXIS2']\n",
    "\n",
    "\n",
    "    #listone=[[1900 , 1970, 1, 2088],[2370,2395, 1, 2088],[300,320, 1, 2088]]\n",
    "    listone=[[2822 , 2826, 1, 2088],[1172,1180,1,2088],[2370,2400,1,2088]]\n",
    "\n",
    "    # x1 x2 y1 y2\n",
    "    filemaskbad = 'maskbadcol.txt'\n",
    "    filemaskiraf = 'maskbadcol.pl'\n",
    "    with open(filemaskbad,'w') as f:\n",
    "        for l in listone:\n",
    "            x1,x2,y1,y2 = l\n",
    "            f.write('{} {} {} {}\\n'.format(x1,x2,y1,y2))\n",
    "    iraf.text2mask(filemaskbad,filemaskiraf,axis1,axis2)\n",
    "\n",
    "    iraf.copy(scienceobect,'tempstObj.fits')\n",
    "    iraf.proto.fixpix('tempstObj.fits[SCI,1]',filemaskiraf,linterp='1,2,3,4',verbose='yes',pixel='no')\n",
    "    iraf.copy('tempstObj.fits','e'+scienceobect)\n",
    "    \n",
    "    iraf.imarith('maskbadcol.pl', '+', 'e'+scienceobect+'[dq,1]', \\\n",
    "                 'tmpdq'+'e'+scienceobect)\n",
    "    iraf.imcopy('tmpdq'+'e'+scienceobect+'[*,*]','e'+scienceobect+'[dq,1][*,*]' )\n",
    "    os.remove('tempstObj.fits')\n",
    "    os.remove('tmpdq'+'e'+scienceobect)\n",
    "\n",
    "\n",
    "    \n",
    "    gmos.gstransform ('e'+scienceobect, wavtraname=p['arc'], **transFlags)\n",
    "    gmos.gsskysub ('t'+'e'+scienceobect, long_sample=p['sky'], **skyFlags)\n"
   ]
  },
  {
   "cell_type": "markdown",
   "metadata": {},
   "source": [
    "After sky substract fix column again"
   ]
  },
  {
   "cell_type": "code",
   "execution_count": 81,
   "metadata": {},
   "outputs": [],
   "source": [
    "def fixcol(file,listcols):\n",
    "    \"\"\"Carefi; woth naxis. Should chedk with header is SCI\"\"\"\n",
    "    a = fits.open(file)\n",
    "    axis1 = a[2].header['NAXIS1']\n",
    "    axis2 = a[2].header['NAXIS2']\n",
    "    \n",
    "    scienceobect = file\n",
    "\n",
    "\n",
    "    #listone=[[1900 , 1970, 1, 2088],[2370,2395, 1, 2088],[300,320, 1, 2088]]\n",
    "    listone=[[2370,2400,1,2088]]\n",
    "\n",
    "    # x1 x2 y1 y2\n",
    "    filemaskbad = 'maskbadcol.txt'\n",
    "    filemaskiraf = 'maskbadcol.pl'\n",
    "    with open(filemaskbad,'w') as f:\n",
    "        for l in listone:\n",
    "            x1,x2,y1,y2 = l\n",
    "            f.write('{} {} {} {}\\n'.format(x1,x2,y1,y2))\n",
    "    iraf.text2mask(filemaskbad,filemaskiraf,axis1,axis2)\n",
    "\n",
    "    iraf.copy(scienceobect,'tempstObj.fits')\n",
    "    iraf.proto.fixpix('tempstObj.fits[SCI,1]',filemaskiraf,linterp='1,2,3,4',verbose='yes',pixel='no')\n",
    "    iraf.copy('tempstObj.fits','e'+scienceobect)\n",
    "    \n",
    "    iraf.imarith('maskbadcol.pl', '+', 'e'+scienceobect+'[dq,1]', \\\n",
    "                 'tmpdq'+'e'+scienceobect)\n",
    "    iraf.imcopy('tmpdq'+'e'+scienceobect+'[*,*]','e'+scienceobect+'[dq,1][*,*]' )\n",
    "    os.remove('tempstObj.fits')\n",
    "    os.remove('tmpdq'+'e'+scienceobect)"
   ]
  },
  {
   "cell_type": "code",
   "execution_count": 82,
   "metadata": {},
   "outputs": [
    {
     "name": "stdout",
     "output_type": "stream",
     "text": [
      "FIXPIX: image tempstObj.fits[SCI,1] with mask maskbadcol.pl\n",
      "tmpdqesteObj6.fits[*,*] -> esteObj6.fits[dq,1][*,*]\n"
     ]
    }
   ],
   "source": [
    "fixcol('steObj6.fits',[[2370,2400,1,2088]])"
   ]
  },
  {
   "cell_type": "markdown",
   "metadata": {},
   "source": [
    "## Try"
   ]
  },
  {
   "cell_type": "code",
   "execution_count": 71,
   "metadata": {},
   "outputs": [],
   "source": [
    "onedspec.nsum=2\n",
    "onedspec.sarith('esteObj6.fits[SCI]', 'copy', '', 'esteObj6.ms',\n",
    "                  apertures='1037-1060x2')"
   ]
  },
  {
   "cell_type": "code",
   "execution_count": null,
   "metadata": {},
   "outputs": [],
   "source": []
  },
  {
   "cell_type": "code",
   "execution_count": null,
   "metadata": {},
   "outputs": [],
   "source": []
  },
  {
   "cell_type": "markdown",
   "metadata": {},
   "source": [
    "\n",
    "pcols tObj5.fits[SCI] 1500 1700 wy1=40 \n",
    "\n",
    "prows tAM2306b.fits[SCI] 520 720 wcs='world'\n",
    "\n"
   ]
  },
  {
   "cell_type": "markdown",
   "metadata": {},
   "source": [
    "Sky http://www.gemini.edu/sciops/telescopes-and-sites/observing-condition-constraints/optical-sky-background"
   ]
  },
  {
   "cell_type": "code",
   "execution_count": null,
   "metadata": {},
   "outputs": [],
   "source": []
  },
  {
   "cell_type": "code",
   "execution_count": null,
   "metadata": {},
   "outputs": [],
   "source": []
  }
 ],
 "metadata": {
  "kernelspec": {
   "display_name": "Python 2",
   "language": "python",
   "name": "python2"
  },
  "language_info": {
   "codemirror_mode": {
    "name": "ipython",
    "version": 2
   },
   "file_extension": ".py",
   "mimetype": "text/x-python",
   "name": "python",
   "nbconvert_exporter": "python",
   "pygments_lexer": "ipython2",
   "version": "2.7.15"
  }
 },
 "nbformat": 4,
 "nbformat_minor": 2
}
