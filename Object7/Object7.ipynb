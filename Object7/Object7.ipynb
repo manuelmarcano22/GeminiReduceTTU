{
 "cells": [
  {
   "cell_type": "code",
   "execution_count": 71,
   "metadata": {},
   "outputs": [],
   "source": [
    "from stsci.tools import capable\n",
    "capable.OF_GRAPHICS = False\n",
    "\n",
    "from pyraf import iraf\n",
    "from pyraf.iraf import gemini, gemtools, gmos, onedspec\n",
    "import fileSelect as fs\n",
    "import copy, os\n",
    "from astropy.io import fits\n"
   ]
  },
  {
   "cell_type": "code",
   "execution_count": 72,
   "metadata": {},
   "outputs": [],
   "source": [
    "import pyds9\n",
    "\n",
    "name = pyds9.ds9_targets()\n",
    "if name != 'None':\n",
    "    name1 = name[0].split()[1]\n",
    "    #print(name1)\n",
    "    d = pyds9.DS9(name1)"
   ]
  },
  {
   "cell_type": "code",
   "execution_count": 73,
   "metadata": {},
   "outputs": [
    {
     "data": {
      "text/plain": [
       "u'/home/mmarcano/Documents/GeminiReduceTTU/Object7'"
      ]
     },
     "execution_count": 73,
     "metadata": {},
     "output_type": "execute_result"
    }
   ],
   "source": [
    "pwd"
   ]
  },
  {
   "cell_type": "markdown",
   "metadata": {},
   "source": [
    "First specified the directory where all the data was downloaded and extracted. Then defined the sqlite3 database. This contains the information of all the files. This obsLog.sqlite3 file was created by the python script obslog.py in the raw data directory. The script will create a database with the fields and metadata"
   ]
  },
  {
   "cell_type": "code",
   "execution_count": 74,
   "metadata": {},
   "outputs": [],
   "source": [
    "datadirall = '../raw/'\n",
    "databasename = datadirall+'obsLog.sqlite3'\n",
    "dbFile= datadirall+'obsLog.sqlite3'"
   ]
  },
  {
   "cell_type": "markdown",
   "metadata": {},
   "source": [
    " From the work_directory:\n",
    " Create the query dictionary of essential parameter=value pairs."
   ]
  },
  {
   "cell_type": "code",
   "execution_count": 75,
   "metadata": {},
   "outputs": [],
   "source": [
    "qd = {'Full':{'use_me':1,\n",
    "       'Instrument':'GMOS-S','CcdBin':'2 2','RoI':'Full',\n",
    "       'Disperser':'R400+_G5325','CentWave':646.0,'AperMask':'0.5arcsec',\n",
    "       'Object':'Obj-7',\n",
    "       'DateObs':'2018-09-15:2018-09-30'}\n",
    "      }\n"
   ]
  },
  {
   "cell_type": "markdown",
   "metadata": {},
   "source": [
    " In the tutorial there are two regions but here only one and it is full. Just changed the regions list to only Full. It should work. Bias only depend on:\n",
    " instrument Roi and CcdBin according to fileSelect file\n",
    " \n",
    "     use_me=1 AND ObsType='BIAS' AND ObsClass LIKE '%Cal'\n",
    "    AND Instrument=:Instrument AND RoI=:RoI AND CcdBin=:CcdBin"
   ]
  },
  {
   "cell_type": "code",
   "execution_count": 76,
   "metadata": {},
   "outputs": [
    {
     "name": "stdout",
     "output_type": "stream",
     "text": [
      "ERROR - GBIAS: Output file MCbiasFull.fits already exists.\n"
     ]
    }
   ],
   "source": [
    "gemtools.gemextn.unlearn()    # Disarm a bug in gbias\n",
    "gmos.gbias.unlearn()\n",
    "biasFlags = {\n",
    "    'logfile':'biasLog.txt','rawpath':'../raw/','fl_vardq':'yes','verbose':'no'\n",
    "}\n",
    "regions = ['Full']\n",
    "for r in regions:\n",
    "    # The following SQL generates the list of full-frame files to process.\n",
    "    SQL = fs.createQuery('bias', qd[r])\n",
    "    biasFiles = fs.fileListQuery(dbFile, SQL, qd[r])\n",
    "\n",
    "    # The str.join() funciton is needed to transform a python list into a\n",
    "    # comma-separated string of file names that IRAF can understand.\n",
    "    if len(biasFiles) > 1:\n",
    "        gmos.gbias(','.join(str(x) for x in biasFiles), 'MCbias'+r,\n",
    "                   **biasFlags)"
   ]
  },
  {
   "cell_type": "code",
   "execution_count": 77,
   "metadata": {},
   "outputs": [],
   "source": [
    "#Clean up after BIAs\n",
    "\n",
    "iraf.imdel('gS2018*.fits')"
   ]
  },
  {
   "cell_type": "code",
   "execution_count": 78,
   "metadata": {},
   "outputs": [
    {
     "data": {
      "text/plain": [
       "1"
      ]
     },
     "execution_count": 78,
     "metadata": {},
     "output_type": "execute_result"
    }
   ],
   "source": [
    "# Open it in DS9 to see it\n",
    "biasfit = fits.open('MCbiasFull.fits')\n",
    "d.set_fits(biasfit)"
   ]
  },
  {
   "cell_type": "markdown",
   "metadata": {},
   "source": [
    "# Flat Field"
   ]
  },
  {
   "cell_type": "code",
   "execution_count": 79,
   "metadata": {},
   "outputs": [
    {
     "name": "stdout",
     "output_type": "stream",
     "text": [
      "ERROR - GSFLAT: Output file MCflatFull already exists.\n",
      "ERROR - GSFLAT: 1 fatal errors found.\n",
      " \n",
      "ERROR - GSFLAT: Program execution failed with 1 errors.\n"
     ]
    }
   ],
   "source": [
    "# Set the task parameters.\n",
    "qd['Full'].update({'DateObs':'*'})\n",
    "gmos.gireduce.unlearn()\n",
    "gmos.gsflat.unlearn()\n",
    "# The response fitting should be done interactively.\n",
    "flatFlags = {\n",
    "    'fl_over':'yes','fl_trim':'yes','fl_bias':'yes','fl_dark':'no',\n",
    "    'fl_fixpix':'no','fl_oversize':'no','fl_vardq':'yes','fl_fulldq':'yes',\n",
    "    'rawpath':'../raw/','fl_inter':'no','fl_detec':'yes',\n",
    "    'function':'spline3','order':'13,11,28',\n",
    "    'logfile':'gsflatLog.txt','verbose':'no'\n",
    "    }\n",
    "for r in regions:\n",
    "    qr = qd[r]\n",
    "    flatFiles = fs.fileListQuery(dbFile, fs.createQuery('gcalFlat', qr), qr)\n",
    "    if len(flatFiles) > 0:\n",
    "        gmos.gsflat (','.join(str(x) for x in flatFiles), 'MCflat'+r,\n",
    "                bias='MCbias'+r, **flatFlags)\n"
   ]
  },
  {
   "cell_type": "code",
   "execution_count": 80,
   "metadata": {},
   "outputs": [],
   "source": [
    "iraf.imdel('gS2018*.fits,gsS2018*.fits')"
   ]
  },
  {
   "cell_type": "code",
   "execution_count": 81,
   "metadata": {},
   "outputs": [
    {
     "data": {
      "text/plain": [
       "1"
      ]
     },
     "execution_count": 81,
     "metadata": {},
     "output_type": "execute_result"
    }
   ],
   "source": [
    "flatfile = fits.open('MCflatFull.fits')\n",
    "d.set_fits(flatfile)"
   ]
  },
  {
   "cell_type": "markdown",
   "metadata": {},
   "source": [
    "# Basic Reduction"
   ]
  },
  {
   "cell_type": "code",
   "execution_count": 82,
   "metadata": {},
   "outputs": [
    {
     "name": "stdout",
     "output_type": "stream",
     "text": [
      "GPREPARE: Using MDF defined in the header 0.5arcsec\n",
      "GPREPARE: Using MDF defined in the header 0.5arcsec\n",
      "GPREPARE: Using MDF defined in the header 0.5arcsec\n",
      "GPREPARE: Using MDF defined in the header 0.5arcsec\n",
      "GPREPARE: Using MDF defined in the header 0.5arcsec\n",
      "GPREPARE: Using MDF defined in the header 0.5arcsec\n",
      "WARNING - GIREDUCE: Bad Pixel Mask filename is an empty string\n",
      "                    Only saturated pixels will be flagged\n",
      "GPREPARE: Using MDF defined in the header 0.5arcsec\n",
      "WARNING - GIREDUCE: Bad Pixel Mask filename is an empty string\n",
      "                    Only saturated pixels will be flagged\n"
     ]
    }
   ],
   "source": [
    "# Set task parameters.\n",
    "gmos.gsreduce.unlearn()\n",
    "sciFlags = {\n",
    "    'fl_over':'yes','fl_trim':'yes','fl_bias':'yes','fl_gscrrej':'no',\n",
    "    'fl_dark':'no','fl_flat':'yes','fl_gmosaic':'yes','fl_fixpix':'no',\n",
    "    'fl_gsappwave':'yes','fl_oversize':'no',\n",
    "    'fl_vardq':'yes','fl_fulldq':'yes','rawpath':'../raw/',\n",
    "    'fl_inter':'no','logfile':'gsreduceLog.txt','verbose':'no'\n",
    "}\n",
    "arcFlags = copy.deepcopy(sciFlags)\n",
    "arcFlags.update({'fl_flat':'no','fl_vardq':'no','fl_fulldq':'no'})\n",
    "\n",
    "\n",
    "# Arc exposures\n",
    "for r in regions:\n",
    "    qr = qd[r]\n",
    "    arcFiles = fs.fileListQuery(dbFile, fs.createQuery('arc', qr), qr)\n",
    "    if len(arcFiles) > 0:\n",
    "        gmos.gsreduce (','.join(str(x) for x in arcFiles), bias='MCbias'+r,\n",
    "                  **arcFlags)\n",
    "\n",
    "\n",
    "# Science exposures\n",
    "r = 'Full'\n",
    "sciFiles = fs.fileListQuery(dbFile, fs.createQuery('sciSpec', qd[r]), qd[r])\n",
    "if len(sciFiles) > 0:\n",
    "    gmos.gsreduce (','.join(str(x) for x in sciFiles), bias='MCbias'+r,\n",
    "              flatim='MCflat'+r, **sciFlags)"
   ]
  },
  {
   "cell_type": "code",
   "execution_count": 83,
   "metadata": {},
   "outputs": [],
   "source": [
    "iraf.imdel('gS2018*.fits')"
   ]
  },
  {
   "cell_type": "markdown",
   "metadata": {},
   "source": [
    "# Wavelength Calibration (Check this later)\n",
    "\n",
    "# Need to select specific wavecals to match science exposures.\n",
    "\n",
    "**Image rectification and wavelength linearization depend upon the wavelength calibration, using the arc lamp exposures taken immediately before each sequence of science and standard star exposures** (see Wavelength Calibration). In this case, the default medium-resolution line list will work well. The fit to the dispersion relation should be performed interactively, but for expediency we will use a previously determined functional fit. \n",
    "\n",
    "\n",
    "I had tpo manually put the name of the two arc Files. I am not sure how may to use. \n",
    "\n",
    "\n",
    "- [ ] On that day there is only one arc\n",
    "\n",
    "\n",
    "Science ones are:\n",
    "\n",
    "- S20181004S0022.fits \n",
    "- S20181004S0022.fits \n",
    "\n",
    "at 23:53 and 23:55\n",
    "\n",
    "The closet arc is on 2018-10-04 called :S20181004S0209.fits\n",
    "\n",
    "## But his depends on CentWave\n",
    "\n",
    "for other one do:\n",
    "\n",
    "\n",
    "\n",
    "have same name as science and have write center wavelegnth\n",
    "\n"
   ]
  },
  {
   "cell_type": "code",
   "execution_count": 85,
   "metadata": {},
   "outputs": [
    {
     "name": "stdout",
     "output_type": "stream",
     "text": [
      "--------------------------------------------------------------------------------\n",
      "GSWAVELENGTH -- Fri Jan 18 11:22:02 CST 2019\n",
      " \n",
      "inimages = gsS20180710S0020\n",
      "Calibrating extension: 1\n",
      "\n",
      "AUTOIDENTIFY: NOAO/IRAF V2.16 mmarcano@tux Fri 11:22:02 18-Jan-2019\n",
      "  Spectrum                 # Found   Midpoint Dispersion        RMS\n",
      "  gsS20180710S0020_001[*,1044]         89    6463.91       -1.5      0.271\n",
      "\n",
      "REIDENTIFY: NOAO/IRAF V2.16 mmarcano@tux Fri 11:22:02 18-Jan-2019\n",
      "  Reference image = gsS20180710S0020_001, New image = gsS20180710S0020_001, Refit = yes\n",
      "          Image Data    Found     Fit Pix Shift  User Shift  Z Shift      RMS\n",
      "gsS20180710S0020_001[*,1034] 87/89   73/87     0.0188     -0.0269  -5.6E-6    0.262\n",
      "gsS20180710S0020_001[*,1024] 86/87   72/89    -0.0498      0.0727  1.49E-5    0.249\n",
      "gsS20180710S0020_001[*,1014] 88/89   75/90   -0.00943      0.0143  1.94E-6    0.265\n",
      "gsS20180710S0020_001[*,1004] 90/90   79/91     0.0297     -0.0422  -1.1E-5    0.463\n",
      "gsS20180710S0020_001[*,994] 91/91   76/92     0.0587     -0.0831  -2.1E-5    0.346\n",
      "gsS20180710S0020_001[*,984] 91/92   83/92   -0.00122     0.00255  -9.5E-7    0.698\n",
      "gsS20180710S0020_001[*,974] 91/92   80/93     -0.063      0.0916  1.88E-5    0.515\n",
      "gsS20180710S0020_001[*,964] 92/93   82/92     0.0525     -0.0731  -2.0E-5    0.811\n",
      "gsS20180710S0020_001[*,954] 90/92   75/91     0.0556     -0.0793  -1.8E-5    0.339\n",
      "gsS20180710S0020_001[*,944] 90/91   73/90     0.0792      -0.113  -2.9E-5     0.28\n",
      "gsS20180710S0020_001[*,934] 89/90   75/92       0.12      -0.171  -4.2E-5    0.288\n",
      "gsS20180710S0020_001[*,924] 89/92   74/91    -0.0835       0.121  2.59E-5    0.267\n",
      "gsS20180710S0020_001[*,914] 89/91   76/89     0.0215     -0.0297  -9.1E-6    0.301\n",
      "gsS20180710S0020_001[*,904] 89/89   81/90    -0.0656      0.0956  1.96E-5    0.387\n",
      "gsS20180710S0020_001[*,894] 89/90   77/91     0.0312      -0.043  -1.3E-5     0.31\n",
      "gsS20180710S0020_001[*,884] 91/91   83/92    -0.0449      0.0658  1.27E-5    0.524\n",
      "gsS20180710S0020_001[*,874] 90/92   83/92    -0.0173      0.0265  3.22E-6    0.561\n",
      "gsS20180710S0020_001[*,864] 91/92   83/92     0.0961      -0.136  -3.4E-5    0.491\n",
      "gsS20180710S0020_001[*,854] 92/92   77/95    -0.0817       0.119  2.41E-5    0.385\n",
      "gsS20180710S0020_001[*,844] 92/95   77/92    -0.0887       0.129  2.67E-5    0.374\n",
      "gsS20180710S0020_001[*,834] 91/92   76/91    -0.0347      0.0514  8.83E-6    0.358\n",
      "gsS20180710S0020_001[*,824] 91/91   77/93     0.0335     -0.0458  -1.5E-5     0.32\n",
      "gsS20180710S0020_001[*,814] 91/93   81/93     0.0676     -0.0952  -2.6E-5    0.487\n",
      "gsS20180710S0020_001[*,804] 91/93   79/93     -0.072       0.106  1.99E-5     0.51\n",
      "gsS20180710S0020_001[*,794] 92/93   80/94     -0.123       0.179  3.64E-5    0.538\n",
      "gsS20180710S0020_001[*,784] 93/94   79/94    -0.0826       0.121  2.32E-5    0.518\n",
      "gsS20180710S0020_001[*,774] 93/94   80/94    -0.0523      0.0774  1.39E-5    0.561\n",
      "gsS20180710S0020_001[*,764] 94/94   76/94    0.00178    -0.00109  -2.6E-6    0.322\n",
      "gsS20180710S0020_001[*,754] 92/94   81/93     0.0816      -0.115  -3.2E-5    0.531\n",
      "gsS20180710S0020_001[*,744] 91/93   76/94    -0.0744       0.111  1.79E-5    0.344\n",
      "gsS20180710S0020_001[*,734] 93/94   74/93     -0.147       0.215  4.23E-5    0.308\n",
      "gsS20180710S0020_001[*,724] 92/93   75/93    -0.0412      0.0611  1.04E-5    0.367\n",
      "gsS20180710S0020_001[*,714] 91/93   79/92       -0.1       0.145  3.11E-5    0.434\n",
      "gsS20180710S0020_001[*,704] 90/92   77/93    -0.0331      0.0499  6.86E-6    0.321\n",
      "gsS20180710S0020_001[*,694] 91/93   78/93     -0.122       0.179  3.52E-5    0.347\n",
      "gsS20180710S0020_001[*,684] 91/93   80/95     -0.129       0.189  3.66E-5    0.381\n",
      "gsS20180710S0020_001[*,674] 92/95   78/94    -0.0198      0.0331  -1.5E-6     0.35\n",
      "gsS20180710S0020_001[*,664] 93/94   74/95    -0.0631      0.0935  1.61E-5    0.312\n",
      "gsS20180710S0020_001[*,654] 93/95   76/95    -0.0831       0.122  2.32E-5    0.311\n",
      "gsS20180710S0020_001[*,644] 94/95   74/95     0.0631     -0.0876  -2.6E-5    0.317\n",
      "gsS20180710S0020_001[*,634] 92/95   74/95     -0.144       0.211  4.19E-5     0.29\n",
      "gsS20180710S0020_001[*,624] 93/95   79/95     0.0373     -0.0525  -1.4E-5    0.408\n",
      "gsS20180710S0020_001[*,614] 95/95   77/96    -0.0165      0.0261  8.69E-7    0.332\n",
      "gsS20180710S0020_001[*,604] 93/96   83/93     -0.204       0.298  6.16E-5    0.579\n",
      "gsS20180710S0020_001[*,594] 92/93   74/92     -0.047      0.0706  1.02E-5    0.262\n",
      "gsS20180710S0020_001[*,584] 92/92   84/92    -0.0533      0.0792  1.35E-5    0.638\n",
      "gsS20180710S0020_001[*,574] 92/92   75/94     -0.068       0.101  1.70E-5      0.3\n",
      "gsS20180710S0020_001[*,564] 92/94   75/93     -0.072       0.107  1.80E-5    0.278\n",
      "gsS20180710S0020_001[*,554] 93/93   75/94     -0.139       0.203  4.07E-5     0.28\n",
      "gsS20180710S0020_001[*,544] 93/94   75/93     0.0119     -0.0128  -1.1E-5    0.293\n",
      "gsS20180710S0020_001[*,534] 92/93   75/93     0.0192     -0.0238  -1.3E-5    0.282\n",
      "gsS20180710S0020_001[*,524] 91/93   78/92    -0.0413      0.0627  7.86E-6    0.406\n",
      "gsS20180710S0020_001[*,514] 91/92   80/94     -0.118       0.173  3.28E-5    0.421\n",
      "gsS20180710S0020_001[*,504] 94/94   83/96     -0.136       0.199  3.81E-5    0.771\n",
      "gsS20180710S0020_001[*,494] 94/96   76/94      -0.16       0.234  4.63E-5    0.295\n",
      "gsS20180710S0020_001[*,484] 92/94   79/93    4.54E-4     0.00339  -8.0E-6    0.423\n",
      "gsS20180710S0020_001[*,474] 92/93   77/93     -0.249       0.363  7.52E-5    0.374\n",
      "gsS20180710S0020_001[*,464] 91/93   80/93    -0.0672       0.101  1.53E-5    0.406\n",
      "gsS20180710S0020_001[*,454] 89/93   77/92     -0.213       0.312  6.29E-5     0.35\n",
      "gsS20180710S0020_001[*,444] 92/92   75/93    -0.0128      0.0221  -2.1E-6    0.331\n",
      "gsS20180710S0020_001[*,434] 93/93   73/95     -0.119       0.175  3.18E-5    0.253\n",
      "gsS20180710S0020_001[*,424] 93/95   80/94    -0.0475      0.0726  8.39E-6    0.474\n",
      "gsS20180710S0020_001[*,414] 93/94   84/95    -0.0466      0.0714  7.83E-6    0.659\n",
      "gsS20180710S0020_001[*,404] 92/95   82/92    -0.0317      0.0504  3.05E-6    0.775\n",
      "gsS20180710S0020_001[*,394] 91/92   73/93    -0.0334      0.0525  4.07E-6    0.292\n",
      "gsS20180710S0020_001[*,384] 90/93   80/92   -0.00508      0.0111  -5.6E-6     0.54\n",
      "gsS20180710S0020_001[*,374] 92/92   74/92     -0.193       0.284  5.56E-5    0.299\n",
      "gsS20180710S0020_001[*,364] 91/92   75/92    -0.0842       0.126  2.01E-5    0.287\n",
      "gsS20180710S0020_001[*,354] 92/92   72/94     -0.101        0.15  2.53E-5    0.262\n",
      "gsS20180710S0020_001[*,344] 92/94   70/94     -0.137       0.201  3.84E-5    0.239\n",
      "gsS20180710S0020_001[*,334] 92/94   80/94    -0.0807       0.121  1.88E-5    0.521\n",
      "gsS20180710S0020_001[*,324] 93/94   81/94    -0.0558      0.0854  1.04E-5    0.563\n",
      "gsS20180710S0020_001[*,314] 94/94   75/94     -0.021      0.0361  -1.7E-6    0.333\n",
      "gsS20180710S0020_001[*,304] 91/94   76/92     -0.157       0.231  4.29E-5    0.336\n",
      "gsS20180710S0020_001[*,294] 92/92   71/92    -0.0492      0.0757  7.88E-6    0.259\n",
      "gsS20180710S0020_001[*,284] 91/92   80/92     -0.126       0.186  3.29E-5    0.527\n",
      "gsS20180710S0020_001[*,274] 90/92   79/92     -0.187       0.274  5.26E-5    0.495\n",
      "gsS20180710S0020_001[*,264] 89/92   76/90      -0.18       0.266  4.91E-5    0.378\n",
      "gsS20180710S0020_001[*,254] 88/90   76/88     -0.127       0.189  3.24E-5    0.448\n",
      "gsS20180710S0020_001[*,244] 86/88   72/89    -0.0913       0.137  2.14E-5    0.298\n",
      "gsS20180710S0020_001[*,234] 88/89   75/90     -0.122       0.181  3.03E-5    0.386\n",
      "gsS20180710S0020_001[*,224] 90/90   73/92     -0.233       0.339  6.97E-5    0.289\n",
      "gsS20180710S0020_001[*,214] 88/92   77/90     0.0434     -0.0577  -2.3E-5     0.37\n",
      "gsS20180710S0020_001[*,204] 88/90   77/91     -0.026      0.0434  -2.0E-6    0.342\n",
      "gsS20180710S0020_001[*,194] 90/91   73/92     -0.335       0.487  1.00E-4    0.351\n",
      "gsS20180710S0020_001[*,184] 91/92   77/91     -0.194       0.285  5.44E-5    0.488\n",
      "gsS20180710S0020_001[*,174] 91/91   80/92     -0.108       0.163  2.44E-5    0.699\n",
      "gsS20180710S0020_001[*,164] 92/92   75/93     -0.164       0.241  4.34E-5    0.513\n",
      "gsS20180710S0020_001[*,154] 93/93   79/93    -0.0936        0.14  2.18E-5    0.758\n",
      "gsS20180710S0020_001[*,144] 93/93   80/93    -0.0302      0.0495  1.28E-6     0.86\n",
      "gsS20180710S0020_001[*,134] 92/93   78/92    -0.0854       0.129  1.89E-5    0.669\n",
      "gsS20180710S0020_001[*,124] 92/92   76/93      0.136      -0.187  -5.4E-5    0.369\n",
      "gsS20180710S0020_001[*,114] 91/93   77/92     0.0203     -0.0226  -1.8E-5    0.337\n",
      "gsS20180710S0020_001[*,104] 89/92   78/91     -0.201       0.295  5.61E-5    0.432\n",
      "gsS20180710S0020_001[*,94] 91/91   77/96     -0.213       0.312  5.99E-5    0.399\n",
      "gsS20180710S0020_001[*,84] 93/96   75/95     -0.377       0.547  1.16E-4    0.339\n",
      "gsS20180710S0020_001[*,74] 92/95   73/95     -0.179       0.261  5.35E-5    0.291\n",
      "gsS20180710S0020_001[*,64] 94/95   78/96     0.0402     -0.0557  -1.7E-5     0.53\n",
      "gsS20180710S0020_001[*,54] 95/96   85/97    -0.0813       0.121  2.05E-5     1.27\n",
      "gsS20180710S0020_001[*,44] 94/97   92/95      -0.26       0.379  7.75E-5      2.4\n",
      "gsS20180710S0020_001[*,34] 82/95   82/84     0.0419     -0.0597  -1.6E-5     3.89\n",
      "gsS20180710S0020_001[*,24] 73/84   78/78     -0.299       0.434  9.44E-5     5.64\n",
      "gsS20180710S0020_001[*,14] 65/78   70/72     -0.265       0.384  8.26E-5      4.1\n",
      "    ** Too many features lost **\n",
      "gsS20180710S0020_001[*,1054] 89/89   79/89    -0.0475       0.068  1.71E-5    0.423\n",
      "gsS20180710S0020_001[*,1064] 87/89   73/88    -0.0159      0.0226  6.17E-6     0.27\n",
      "gsS20180710S0020_001[*,1074] 88/88   81/89     0.0358     -0.0518  -1.2E-5    0.517\n",
      "gsS20180710S0020_001[*,1084] 88/89   75/90   -0.00983      0.0143  3.14E-6    0.307\n",
      "gsS20180710S0020_001[*,1094] 89/90   78/91      0.036     -0.0519  -1.2E-5     0.43\n",
      "gsS20180710S0020_001[*,1104] 90/91   77/92    -0.0448      0.0642  1.49E-5    0.398\n",
      "gsS20180710S0020_001[*,1114] 91/92   72/92     0.0398     -0.0572  -1.3E-5    0.269\n",
      "gsS20180710S0020_001[*,1124] 91/92   74/92     0.0584     -0.0833  -2.0E-5    0.317\n",
      "gsS20180710S0020_001[*,1134] 91/92   73/93    0.00471    -0.00698  -1.3E-6     0.26\n",
      "gsS20180710S0020_001[*,1144] 93/93   73/93    -0.0518      0.0743  1.76E-5    0.325\n",
      "gsS20180710S0020_001[*,1154] 92/93   79/92    -0.0373       0.054  1.18E-5    0.506\n",
      "gsS20180710S0020_001[*,1164] 90/92   72/94    -0.0202      0.0298  5.52E-6    0.273\n",
      "gsS20180710S0020_001[*,1174] 90/94   75/93    4.38E-4    -2.86E-4  -7.5E-7     0.32\n",
      "gsS20180710S0020_001[*,1184] 92/93   77/93     -0.019      0.0278  5.59E-6    0.345\n",
      "gsS20180710S0020_001[*,1194] 91/93   74/92     -0.125       0.181  4.05E-5    0.293\n",
      "gsS20180710S0020_001[*,1204] 91/92   77/92    -0.0413      0.0602  1.26E-5    0.287\n",
      "gsS20180710S0020_001[*,1214] 88/92   77/90    -0.0645      0.0937  2.01E-5    0.323\n",
      "gsS20180710S0020_001[*,1224] 87/90   79/88     -0.151       0.218  4.88E-5    0.367\n",
      "gsS20180710S0020_001[*,1234] 87/88   76/89     -0.079       0.115  2.41E-5    0.344\n",
      "gsS20180710S0020_001[*,1244] 89/89   83/90     0.0569     -0.0813  -2.0E-5    0.471\n",
      "gsS20180710S0020_001[*,1254] 89/90   74/89     0.0176     -0.0245  -7.7E-6    0.284\n",
      "gsS20180710S0020_001[*,1264] 87/89   81/89    -0.0711       0.103  2.19E-5    0.508\n",
      "gsS20180710S0020_001[*,1274] 89/89   82/90     0.0421     -0.0595  -1.7E-5    0.488\n",
      "gsS20180710S0020_001[*,1284] 88/90   78/89     -0.111       0.161  3.49E-5    0.383\n",
      "gsS20180710S0020_001[*,1294] 89/89   80/90    -0.0223      0.0333  5.39E-6    0.411\n",
      "gsS20180710S0020_001[*,1304] 90/90   85/90     -0.168       0.243  5.35E-5    0.631\n",
      "gsS20180710S0020_001[*,1314] 88/90   78/90     0.0266     -0.0367  -1.2E-5    0.374\n",
      "gsS20180710S0020_001[*,1324] 89/90   75/90     0.0185     -0.0253  -8.3E-6    0.278\n",
      "gsS20180710S0020_001[*,1334] 89/90   79/89    -0.0922       0.134  2.85E-5    0.467\n",
      "gsS20180710S0020_001[*,1344] 88/89   74/91    -0.0151      0.0236  2.07E-6    0.271\n",
      "gsS20180710S0020_001[*,1354] 90/91   76/90     0.0713      -0.101  -2.6E-5    0.377\n",
      "gsS20180710S0020_001[*,1364] 89/90   74/91   -0.00645      0.0109  -6.2E-7    0.285\n",
      "gsS20180710S0020_001[*,1374] 90/91   74/90    -0.0715       0.105  2.04E-5    0.303\n",
      "gsS20180710S0020_001[*,1384] 90/90   80/90    -0.0817       0.119  2.40E-5    0.546\n",
      "gsS20180710S0020_001[*,1394] 89/90   74/89     0.0414     -0.0578  -1.6E-5    0.291\n",
      "gsS20180710S0020_001[*,1404] 88/89   74/90    -0.0225      0.0338  4.91E-6    0.283\n",
      "gsS20180710S0020_001[*,1414] 89/90   74/92    -0.0164      0.0248  3.20E-6    0.323\n",
      "gsS20180710S0020_001[*,1424] 92/92   82/94    -0.0844       0.123  2.58E-5    0.486\n",
      "gsS20180710S0020_001[*,1434] 91/94   76/91     -0.106       0.155  3.05E-5    0.312\n",
      "gsS20180710S0020_001[*,1444] 90/91   73/90    -0.0388      0.0592  6.57E-6    0.263\n",
      "gsS20180710S0020_001[*,1454] 89/90   76/90     -0.102        0.15  2.73E-5    0.388\n",
      "gsS20180710S0020_001[*,1464] 90/90   80/91    -0.0763       0.111  2.26E-5    0.385\n",
      "gsS20180710S0020_001[*,1474] 88/91   79/89    -0.0926       0.135  2.85E-5    0.361\n",
      "gsS20180710S0020_001[*,1484] 89/89   75/92     -0.146       0.214  4.28E-5    0.268\n",
      "gsS20180710S0020_001[*,1494] 88/92   77/89    -0.0744        0.11  1.95E-5    0.343\n",
      "gsS20180710S0020_001[*,1504] 89/89   78/92   -0.00937      0.0155  -4.7E-7    0.361\n",
      "gsS20180710S0020_001[*,1514] 92/92   79/92    -0.0966       0.142  2.70E-5    0.338\n",
      "gsS20180710S0020_001[*,1524] 90/92   78/90    -0.0414      0.0622  9.02E-6    0.347\n",
      "gsS20180710S0020_001[*,1534] 89/90   78/93    -0.0509      0.0761  1.20E-5    0.359\n",
      "gsS20180710S0020_001[*,1544] 90/93   78/91      0.113      -0.161  -4.1E-5    0.315\n",
      "gsS20180710S0020_001[*,1554] 89/91   74/90    -0.0731       0.108  1.88E-5    0.288\n",
      "gsS20180710S0020_001[*,1564] 89/90   81/91     0.0346     -0.0471  -1.6E-5     0.47\n",
      "gsS20180710S0020_001[*,1574] 90/91   77/91    -0.0584      0.0865  1.49E-5    0.335\n",
      "gsS20180710S0020_001[*,1584] 90/91   83/93   -0.00608      0.0122  -3.8E-6    0.634\n",
      "gsS20180710S0020_001[*,1594] 93/93   83/93     -0.033      0.0505  5.96E-6    0.601\n",
      "gsS20180710S0020_001[*,1604] 93/93   77/94      0.037     -0.0489  -1.8E-5    0.326\n",
      "gsS20180710S0020_001[*,1614] 91/94   78/93     -0.239       0.348  7.45E-5    0.308\n",
      "gsS20180710S0020_001[*,1624] 92/93   80/94    -0.0863       0.127  2.31E-5    0.423\n",
      "gsS20180710S0020_001[*,1634] 94/94   80/94     -0.126       0.186  3.36E-5    0.377\n",
      "gsS20180710S0020_001[*,1644] 93/94   77/94    -0.0441      0.0661  9.85E-6    0.362\n",
      "gsS20180710S0020_001[*,1654] 92/94   71/92    -0.0726       0.108  1.83E-5    0.247\n",
      "gsS20180710S0020_001[*,1664] 91/92   81/93     -0.122       0.179  3.41E-5    0.523\n",
      "gsS20180710S0020_001[*,1674] 93/93   75/93    -0.0169      0.0286  -8.4E-7    0.306\n",
      "gsS20180710S0020_001[*,1684] 92/93   75/93    -0.0737       0.108  2.16E-5    0.299\n",
      "gsS20180710S0020_001[*,1694] 91/93   76/92    -0.0831       0.124  1.91E-5    0.329\n",
      "gsS20180710S0020_001[*,1704] 91/92   77/93     -0.204       0.297  6.12E-5    0.354\n",
      "gsS20180710S0020_001[*,1714] 91/93   78/94   -0.00372     0.00926  -5.3E-6    0.461\n",
      "gsS20180710S0020_001[*,1724] 91/94   77/93     -0.118       0.173  3.31E-5     0.47\n",
      "gsS20180710S0020_001[*,1734] 92/93   77/95    -0.0652       0.101  9.35E-6    0.462\n",
      "gsS20180710S0020_001[*,1744] 94/95   79/94     0.0596      -0.085  -2.1E-5    0.469\n",
      "gsS20180710S0020_001[*,1754] 93/94   71/95     0.0776      -0.109  -2.8E-5    0.287\n",
      "gsS20180710S0020_001[*,1764] 94/95   74/96    -0.0417      0.0638  6.97E-6    0.308\n",
      "gsS20180710S0020_001[*,1774] 93/96   77/93    -0.0535      0.0809  1.07E-5    0.362\n",
      "gsS20180710S0020_001[*,1784] 91/93   77/92    -0.0241      0.0386  1.04E-6    0.437\n",
      "gsS20180710S0020_001[*,1794] 90/92   70/92     0.0117     -0.0139  -1.0E-5    0.297\n",
      "gsS20180710S0020_001[*,1804] 91/92   77/93   -0.00795      0.0124  9.64E-7    0.434\n",
      "gsS20180710S0020_001[*,1814] 90/93   75/92     -0.156       0.228  4.48E-5    0.391\n",
      "gsS20180710S0020_001[*,1824] 91/92   78/91     -0.109       0.162  2.83E-5    0.487\n",
      "gsS20180710S0020_001[*,1834] 89/91   81/92    -0.0489      0.0749  8.15E-6    0.565\n",
      "gsS20180710S0020_001[*,1844] 90/92   76/91    -0.0744       0.112  1.52E-5    0.384\n",
      "gsS20180710S0020_001[*,1854] 90/91   72/91     0.0454     -0.0608  -2.3E-5    0.336\n",
      "gsS20180710S0020_001[*,1864] 90/91   79/91    -0.0892       0.133  2.13E-5    0.551\n",
      "gsS20180710S0020_001[*,1874] 90/91   76/91     -0.204       0.299  5.86E-5     0.48\n",
      "gsS20180710S0020_001[*,1884] 91/91   79/92      -0.16       0.236  4.47E-5    0.527\n",
      "gsS20180710S0020_001[*,1894] 90/92   79/92      -0.16       0.235  4.41E-5    0.545\n",
      "gsS20180710S0020_001[*,1904] 90/92   75/94     -0.204         0.3  5.92E-5    0.343\n",
      "gsS20180710S0020_001[*,1914] 88/94   74/91     -0.116       0.172  2.94E-5    0.442\n",
      "gsS20180710S0020_001[*,1924] 90/91   75/95   -7.95E-4      0.0056  -8.9E-6    0.362\n",
      "gsS20180710S0020_001[*,1934] 92/95   71/93     -0.217       0.318  6.34E-5    0.264\n",
      "gsS20180710S0020_001[*,1944] 91/93   73/92     -0.132       0.195  3.49E-5    0.351\n",
      "gsS20180710S0020_001[*,1954] 91/92   77/93     -0.186       0.273  5.21E-5    0.548\n",
      "gsS20180710S0020_001[*,1964] 93/93   78/95    -0.0576      0.0877  9.42E-6    0.506\n",
      "gsS20180710S0020_001[*,1974] 91/95   74/92     -0.163       0.239  4.49E-5    0.392\n",
      "gsS20180710S0020_001[*,1984] 90/92   78/91    -0.0441      0.0686  5.15E-6    0.675\n",
      "gsS20180710S0020_001[*,1994] 90/91   80/93    -0.0767       0.115  1.59E-5    0.621\n",
      "gsS20180710S0020_001[*,2004] 93/93   78/94     -0.141       0.208  3.79E-5    0.576\n",
      "gsS20180710S0020_001[*,2014] 92/94   76/93     -0.127       0.188  3.25E-5    0.368\n",
      "gsS20180710S0020_001[*,2024] 91/93   74/93    -0.0738       0.111  1.53E-5    0.336\n",
      "gsS20180710S0020_001[*,2034] 90/93   72/91     -0.206       0.302  5.84E-5    0.318\n",
      "gsS20180710S0020_001[*,2044] 89/91   73/92     -0.148       0.219  3.98E-5    0.318\n",
      "gsS20180710S0020_001[*,2054] 91/92   75/92      -0.17       0.251  4.65E-5    0.352\n",
      "gsS20180710S0020_001[*,2064] 91/92   74/93      -0.15       0.222  3.86E-5    0.337\n",
      "gsS20180710S0020_001[*,2074] 91/93   73/92   -0.00153     0.00534  -4.9E-6    0.339\n",
      "gsS20180710S0020_001[*,2084] 90/92   77/93    0.00823    -0.00894  -7.6E-6    0.388\n",
      "\n",
      "NOAO/IRAF V2.16 mmarcano@tux Fri 11:22:03 18-Jan-2019\n",
      "  Longslit coordinate fit name is gsS20180710S0020_001.\n",
      "  Longslit database is database.\n",
      "  Features from images:\n",
      "    gsS20180710S0020_001\n",
      "  Map User coordinates for axis 1 using image features:\n",
      "  Number of feature coordnates = 15944\n",
      "  Mapping function = chebyshev\n",
      "    X order = 4\n",
      "    Y order = 4\n",
      "  Fitted coordinates at the corners of the images:\n",
      "    (1, 1) = 8818.294  (3132, 1) = 4150.7\n",
      "    (1, 2088) = 8820.327  (3132, 2088) = 4153.666\n",
      " \n",
      "GSWAVELENGTH exit status: good\n",
      "--------------------------------------------------------------------------------\n"
     ]
    }
   ],
   "source": [
    "# Set task parameters\n",
    "gmos.gswavelength.unlearn()\n",
    "waveFlags = {\n",
    "    'coordlist':'gmos$data/CuAr_GMOS.dat','fwidth':6,'nsum':50,\n",
    "    'function':'chebyshev','order':5,\n",
    "    'fl_inter':'no','logfile':'gswaveLog.txt','verbose':'yes'\n",
    "    }\n",
    "# Must select specific wavecals to match science exposures.\n",
    "#prefix = 'gsS20180708S00'\n",
    "prefix = 'gsS20180710S0020'\n",
    "\n",
    "#for arc in [arcname+'.fits']:\n",
    "for arc in ['']:\n",
    "     #gmos.gswavelength (prefix+arc, **waveFlags)\n",
    "    gmos.gswavelength (prefix+arc, **waveFlags)        "
   ]
  },
  {
   "cell_type": "markdown",
   "metadata": {},
   "source": [
    "# Advanced Processing\n",
    "\n",
    "\n",
    "In the example tutorial:\n",
    "\n",
    ">The targets in this program were observed in 3 slit orientations, and a few exposures were obtained at each position. This provides an opportunity to combine the sequential exposures at each position to remove cosmic rays, rather than rejecting CRs on single frames using the gsreduce.fl_gscrrej+ flag or running the gemcrspec task. The combined exposures for each target are then wavelength calibrated, and sky subtracted. First set the processing parameters.\n",
    "\n",
    "Here we have two exposures of the same thing. Supposed it is the same. "
   ]
  },
  {
   "cell_type": "code",
   "execution_count": 86,
   "metadata": {},
   "outputs": [],
   "source": [
    "# Set task parameters.\n",
    "gemtools.gemcombine.unlearn()\n",
    "sciCombFlags = {\n",
    "    'combine':'average','reject':'ccdclip',\n",
    "    'fl_vardq':'yes','fl_dqprop':'yes',\n",
    "    'logfile':'gemcombineLog.txt.txt','verbose':'no'\n",
    "}\n",
    "stdCombFlags = copy.deepcopy(sciCombFlags)\n",
    "stdCombFlags.update({'fl_vardq':'no','fl_dqprop':'no'})\n",
    "gmos.gstransform.unlearn()\n",
    "transFlags = {\n",
    "    'fl_vardq':'yes','interptype':'linear','fl_flux':'yes',\n",
    "    'logfile':'gstransLog.txt'\n",
    "}\n",
    "# The sky regions should be selected with care, using e.g. prows/pcols:\n",
    "#   pcols (\"tAM2306b.fits[SCI]\", 1100, 2040, wy1=40, wy2=320)\n",
    "gmos.gsskysub.unlearn()\n",
    "skyFlags = {\n",
    "    'fl_oversize':'no','fl_vardq':'yes','logfile':'gsskysubLog.txt'\n",
    "}"
   ]
  },
  {
   "cell_type": "markdown",
   "metadata": {},
   "source": [
    "# The sky regions should be selected with care, using e.g. prows/pcols:"
   ]
  },
  {
   "cell_type": "markdown",
   "metadata": {},
   "source": [
    "# Science Targets\n",
    "\n",
    "##  Use a dictionary to associate science targets with Arcs and sky regions.\n",
    "have to put the bad colum in *list one* to fix an also manually change the arc and sky postion to substract."
   ]
  },
  {
   "cell_type": "code",
   "execution_count": 94,
   "metadata": {},
   "outputs": [
    {
     "name": "stdout",
     "output_type": "stream",
     "text": [
      "ERROR - GEMCOMBINE: Output file Obj7 already exists.\n",
      "-------------------------------------------------------------------------------\n",
      "GSTRANSFORM -- Fri Jan 18 19:05:40 CST 2019\n",
      " \n",
      "\n",
      "inimages   = Obj7\n",
      "outimages  = \n",
      "outprefix  = t\n",
      "fl_stran   = no\n",
      "fl_wavtran = yes\n",
      "wavtraname = gsS20180710S0020\n",
      "database   = database\n",
      "fl_vardq   = yes\n",
      "interptype = linear\n",
      "lambda1    = INDEF\n",
      "lambda2    = INDEF\n",
      "dx         = INDEF\n",
      "nx         = INDEF\n",
      "lambdalog  = no\n",
      "ylog       = no\n",
      "fl_flux    = yes\n",
      "gratingdb  = gmos$data/GMOSgratings.dat\n",
      "filterdb   = gmos$data/GMOSfilters.dat\n",
      "key_dispaxis = DISPAXIS\n",
      "dispaxis   = 1\n",
      "sci_ext    = SCI\n",
      "var_ext = VAR\n",
      "dq_ext  = DQ\n",
      "\n",
      "Transforming Obj7.fits[SCI,1]\n",
      "MDF row: 1\n",
      "\n",
      "NOAO/IRAF V2.16 mmarcano@tux Fri 19:05:41 18-Jan-2019\n",
      "  Transform Obj7.fits[SCI,1] to tmpsci22806_2675.\n",
      "  Conserve flux per pixel.\n",
      "  User coordinate transformations:\n",
      "    gsS20180710S0020_001\n",
      "  Interpolation is linear.\n",
      "  Using edge extension for out of bounds pixel values.\n",
      "  Output coordinate parameters are:\n",
      "    x1 =      4151., x2 =      8820., dx =      1.491, nx = 3132, xlog = no\n",
      "    y1 =         1., y2 =      2088., dy =         1., ny = 2088, ylog = no\n",
      "\n",
      "NOAO/IRAF V2.16 mmarcano@tux Fri 19:05:42 18-Jan-2019\n",
      "  Transform Obj7.fits[VAR,1] to tmpvar22806_2676.\n",
      "  Conserve flux per pixel.\n",
      "  User coordinate transformations:\n",
      "    gsS20180710S0020_001\n",
      "  Interpolation is linear.\n",
      "  Using edge extension for out of bounds pixel values.\n",
      "  Output coordinate parameters are:\n",
      "    x1 =      4151., x2 =      8820., dx =      1.491, nx = 3132, xlog = no\n",
      "    y1 =         1., y2 =      2088., dy =         1., ny = 2088, ylog = no\n",
      "\n",
      "NOAO/IRAF V2.16 mmarcano@tux Fri 19:05:43 18-Jan-2019\n",
      "  Transform Obj7.fits[DQ,1] to tmpdq22806_2677.\n",
      "  User coordinate transformations:\n",
      "    gsS20180710S0020_001\n",
      "  Interpolation is linear.\n",
      "  Using edge extension for out of bounds pixel values.\n",
      "  Output coordinate parameters are:\n",
      "    x1 =      4151., x2 =      8820., dx =      1.491, nx = 3132, xlog = no\n",
      "    y1 =         1., y2 =      2088., dy =         1., ny = 2088, ylog = no\n",
      "\n",
      "GSTRANSFORM exit status: good\n",
      "-------------------------------------------------------------------------------\n",
      "\n",
      "----------------------------------------------------------------------------\n",
      "GSSKYSUB -- Fri Jan 18 19:05:44 CST 2019\n",
      "\n",
      "input        = tObj7\n",
      "output       = \n",
      "outpref      = s\n",
      "fl_vardq     = yes\n",
      "fl_oversize  = no\n",
      "sci_ext      = SCI\n",
      "var_ext      = VAR\n",
      "dq_ext       = DQ\n",
      "long_sample  = 100:700\n",
      "mos_sample   = 0.9\n",
      "mosobjsize   = 1.0\n",
      "naverage     = 1\n",
      "function     = chebyshev\n",
      "order        = 1\n",
      "low_reject   = 2.5\n",
      "high_reject  = 2.5\n",
      "niterate     = 2\n",
      "grow         = 0.0\n",
      "fl_inter     = no\n",
      "\n",
      " \n",
      "GSSKYSUB: Sky-subtraction started\n",
      " \n",
      "  Input image     = tObj7.fits\n",
      "  Output image    = stObj7.fits\n",
      "  Observing mode  = LONGSLIT\n",
      "  Number of slits = 1\n",
      "  Slit #1 ; background sample = [100:700]\n",
      "         RMS of the fit (for VAR plane propagation) = 1138723.0\n",
      "\n",
      "GSSKYSUB done. Exit status good -- Fri Jan 18 19:05:54 CST 2019\n",
      "-------------------------------------------------------------------------------\n",
      "\n"
     ]
    }
   ],
   "source": [
    "sciTargets = {\n",
    "    'Obj-7':{'arc':'gsS20180710S0020','sky':'100:700'},\n",
    "}\n",
    "\n",
    "prefix = \"gs\"\n",
    "\n",
    "for targ,p in sciTargets.iteritems():\n",
    "    qs = qd['Full']\n",
    "    qs['Object'] = targ\n",
    "    # Fix up the target name for the output file\n",
    "    sciOut = targ.split('-')[0]+targ[-1]\n",
    "    sciFiles = fs.fileListQuery(dbFile, fs.createQuery('sciSpec', qs), qs)\n",
    "    gemtools.gemcombine (','.join(prefix+str(x) for x in sciFiles),\n",
    "                         sciOut, **sciCombFlags)\n",
    "    gmos.gstransform(sciOut, wavtraname=p['arc'], **transFlags)\n",
    "    gmos.gsskysub('t'+sciOut, long_sample=p['sky'], **skyFlags)"
   ]
  },
  {
   "cell_type": "code",
   "execution_count": 93,
   "metadata": {},
   "outputs": [
    {
     "name": "stdout",
     "output_type": "stream",
     "text": [
      "-------------------------------------------------------------------------------\n",
      "GSTRANSFORM -- Fri Jan 18 19:04:01 CST 2019\n",
      " \n",
      "ERROR - GSTRANSFORM: Input image eObj7.fits does not exist or is not MEF\n",
      "ERROR - GSTRANSFORM: 1 errors found with input parameters. Exiting.\n",
      "\n",
      "GSTRANSFORM exit status: error\n",
      "-------------------------------------------------------------------------------\n",
      "\n",
      "----------------------------------------------------------------------------\n",
      "GSSKYSUB -- Fri Jan 18 19:04:01 CST 2019\n",
      "\n",
      "input        = teObj7.fits\n",
      "output       = \n",
      "outpref      = s\n",
      "fl_vardq     = yes\n",
      "fl_oversize  = no\n",
      "sci_ext      = SCI\n",
      "var_ext      = VAR\n",
      "dq_ext       = DQ\n",
      "long_sample  = 100:700\n",
      "mos_sample   = 0.9\n",
      "mosobjsize   = 1.0\n",
      "naverage     = 1\n",
      "function     = chebyshev\n",
      "order        = 1\n",
      "low_reject   = 2.5\n",
      "high_reject  = 2.5\n",
      "niterate     = 2\n",
      "grow         = 0.0\n",
      "fl_inter     = no\n",
      "\n",
      "ERROR - GSSKYSUB: Input image teObj7.fits does not exist\n",
      "ERROR - GSSKYSUB: 1 error(s) found. Exiting.\n",
      "\n",
      "GSSKYSUB done. Exit status bad. -- Fri Jan 18 19:04:01 CST 2019\n",
      "-------------------------------------------------------------------------------\n",
      "\n"
     ]
    }
   ],
   "source": [
    "\n",
    "gmos.gstransform ('e'+scienceobect, wavtraname=p['arc'], **transFlags)\n",
    "gmos.gsskysub ('t'+'e'+scienceobect, long_sample=p['sky'], **skyFlags)"
   ]
  },
  {
   "cell_type": "code",
   "execution_count": 87,
   "metadata": {},
   "outputs": [
    {
     "ename": "IOError",
     "evalue": "[Errno 2] No such file or directory: 'Obj7.fits'",
     "output_type": "error",
     "traceback": [
      "\u001b[0;31m---------------------------------------------------------------------------\u001b[0m",
      "\u001b[0;31mIOError\u001b[0m                                   Traceback (most recent call last)",
      "\u001b[0;32m<ipython-input-87-09d4c7dd6099>\u001b[0m in \u001b[0;36m<module>\u001b[0;34m()\u001b[0m\n\u001b[1;32m     15\u001b[0m     \u001b[0mscienceobect\u001b[0m \u001b[0;34m=\u001b[0m \u001b[0msciOut\u001b[0m\u001b[0;34m+\u001b[0m\u001b[0;34m'.fits'\u001b[0m\u001b[0;34m\u001b[0m\u001b[0m\n\u001b[1;32m     16\u001b[0m \u001b[0;34m\u001b[0m\u001b[0m\n\u001b[0;32m---> 17\u001b[0;31m     \u001b[0ma\u001b[0m \u001b[0;34m=\u001b[0m \u001b[0mfits\u001b[0m\u001b[0;34m.\u001b[0m\u001b[0mopen\u001b[0m\u001b[0;34m(\u001b[0m\u001b[0msciOut\u001b[0m\u001b[0;34m+\u001b[0m\u001b[0;34m'.fits'\u001b[0m\u001b[0;34m)\u001b[0m\u001b[0;34m\u001b[0m\u001b[0m\n\u001b[0m\u001b[1;32m     18\u001b[0m     \u001b[0maxis1\u001b[0m \u001b[0;34m=\u001b[0m \u001b[0ma\u001b[0m\u001b[0;34m[\u001b[0m\u001b[0;36m1\u001b[0m\u001b[0;34m]\u001b[0m\u001b[0;34m.\u001b[0m\u001b[0mheader\u001b[0m\u001b[0;34m[\u001b[0m\u001b[0;34m'NAXIS1'\u001b[0m\u001b[0;34m]\u001b[0m\u001b[0;34m\u001b[0m\u001b[0m\n\u001b[1;32m     19\u001b[0m     \u001b[0maxis2\u001b[0m \u001b[0;34m=\u001b[0m \u001b[0ma\u001b[0m\u001b[0;34m[\u001b[0m\u001b[0;36m1\u001b[0m\u001b[0;34m]\u001b[0m\u001b[0;34m.\u001b[0m\u001b[0mheader\u001b[0m\u001b[0;34m[\u001b[0m\u001b[0;34m'NAXIS2'\u001b[0m\u001b[0;34m]\u001b[0m\u001b[0;34m\u001b[0m\u001b[0m\n",
      "\u001b[0;32m/home/mmarcano/anaconda3/envs/astroconda/lib/python2.7/site-packages/astropy/io/fits/hdu/hdulist.pyc\u001b[0m in \u001b[0;36mfitsopen\u001b[0;34m(name, mode, memmap, save_backup, cache, lazy_load_hdus, **kwargs)\u001b[0m\n\u001b[1;32m    146\u001b[0m \u001b[0;34m\u001b[0m\u001b[0m\n\u001b[1;32m    147\u001b[0m     return HDUList.fromfile(name, mode, memmap, save_backup, cache,\n\u001b[0;32m--> 148\u001b[0;31m                             lazy_load_hdus, **kwargs)\n\u001b[0m\u001b[1;32m    149\u001b[0m \u001b[0;34m\u001b[0m\u001b[0m\n\u001b[1;32m    150\u001b[0m \u001b[0;34m\u001b[0m\u001b[0m\n",
      "\u001b[0;32m/home/mmarcano/anaconda3/envs/astroconda/lib/python2.7/site-packages/astropy/io/fits/hdu/hdulist.pyc\u001b[0m in \u001b[0;36mfromfile\u001b[0;34m(cls, fileobj, mode, memmap, save_backup, cache, lazy_load_hdus, **kwargs)\u001b[0m\n\u001b[1;32m    400\u001b[0m         return cls._readfrom(fileobj=fileobj, mode=mode, memmap=memmap,\n\u001b[1;32m    401\u001b[0m                              \u001b[0msave_backup\u001b[0m\u001b[0;34m=\u001b[0m\u001b[0msave_backup\u001b[0m\u001b[0;34m,\u001b[0m \u001b[0mcache\u001b[0m\u001b[0;34m=\u001b[0m\u001b[0mcache\u001b[0m\u001b[0;34m,\u001b[0m\u001b[0;34m\u001b[0m\u001b[0m\n\u001b[0;32m--> 402\u001b[0;31m                              lazy_load_hdus=lazy_load_hdus, **kwargs)\n\u001b[0m\u001b[1;32m    403\u001b[0m \u001b[0;34m\u001b[0m\u001b[0m\n\u001b[1;32m    404\u001b[0m     \u001b[0;34m@\u001b[0m\u001b[0mclassmethod\u001b[0m\u001b[0;34m\u001b[0m\u001b[0m\n",
      "\u001b[0;32m/home/mmarcano/anaconda3/envs/astroconda/lib/python2.7/site-packages/astropy/io/fits/hdu/hdulist.pyc\u001b[0m in \u001b[0;36m_readfrom\u001b[0;34m(cls, fileobj, data, mode, memmap, save_backup, cache, lazy_load_hdus, **kwargs)\u001b[0m\n\u001b[1;32m   1004\u001b[0m             \u001b[0;32mif\u001b[0m \u001b[0;32mnot\u001b[0m \u001b[0misinstance\u001b[0m\u001b[0;34m(\u001b[0m\u001b[0mfileobj\u001b[0m\u001b[0;34m,\u001b[0m \u001b[0m_File\u001b[0m\u001b[0;34m)\u001b[0m\u001b[0;34m:\u001b[0m\u001b[0;34m\u001b[0m\u001b[0m\n\u001b[1;32m   1005\u001b[0m                 \u001b[0;31m# instantiate a FITS file object (ffo)\u001b[0m\u001b[0;34m\u001b[0m\u001b[0;34m\u001b[0m\u001b[0m\n\u001b[0;32m-> 1006\u001b[0;31m                 \u001b[0mfileobj\u001b[0m \u001b[0;34m=\u001b[0m \u001b[0m_File\u001b[0m\u001b[0;34m(\u001b[0m\u001b[0mfileobj\u001b[0m\u001b[0;34m,\u001b[0m \u001b[0mmode\u001b[0m\u001b[0;34m=\u001b[0m\u001b[0mmode\u001b[0m\u001b[0;34m,\u001b[0m \u001b[0mmemmap\u001b[0m\u001b[0;34m=\u001b[0m\u001b[0mmemmap\u001b[0m\u001b[0;34m,\u001b[0m \u001b[0mcache\u001b[0m\u001b[0;34m=\u001b[0m\u001b[0mcache\u001b[0m\u001b[0;34m)\u001b[0m\u001b[0;34m\u001b[0m\u001b[0m\n\u001b[0m\u001b[1;32m   1007\u001b[0m             \u001b[0;31m# The Astropy mode is determined by the _File initializer if the\u001b[0m\u001b[0;34m\u001b[0m\u001b[0;34m\u001b[0m\u001b[0m\n\u001b[1;32m   1008\u001b[0m             \u001b[0;31m# supplied mode was None\u001b[0m\u001b[0;34m\u001b[0m\u001b[0;34m\u001b[0m\u001b[0m\n",
      "\u001b[0;32m/home/mmarcano/anaconda3/envs/astroconda/lib/python2.7/site-packages/astropy/utils/decorators.pyc\u001b[0m in \u001b[0;36mwrapper\u001b[0;34m(*args, **kwargs)\u001b[0m\n\u001b[1;32m    506\u001b[0m                         \u001b[0;31m# one with the name of the new argument to the function\u001b[0m\u001b[0;34m\u001b[0m\u001b[0;34m\u001b[0m\u001b[0m\n\u001b[1;32m    507\u001b[0m                         \u001b[0mkwargs\u001b[0m\u001b[0;34m[\u001b[0m\u001b[0mnew_name\u001b[0m\u001b[0;34m[\u001b[0m\u001b[0mi\u001b[0m\u001b[0;34m]\u001b[0m\u001b[0;34m]\u001b[0m \u001b[0;34m=\u001b[0m \u001b[0mvalue\u001b[0m\u001b[0;34m\u001b[0m\u001b[0m\n\u001b[0;32m--> 508\u001b[0;31m             \u001b[0;32mreturn\u001b[0m \u001b[0mfunction\u001b[0m\u001b[0;34m(\u001b[0m\u001b[0;34m*\u001b[0m\u001b[0margs\u001b[0m\u001b[0;34m,\u001b[0m \u001b[0;34m**\u001b[0m\u001b[0mkwargs\u001b[0m\u001b[0;34m)\u001b[0m\u001b[0;34m\u001b[0m\u001b[0m\n\u001b[0m\u001b[1;32m    509\u001b[0m \u001b[0;34m\u001b[0m\u001b[0m\n\u001b[1;32m    510\u001b[0m         \u001b[0;32mreturn\u001b[0m \u001b[0mwrapper\u001b[0m\u001b[0;34m\u001b[0m\u001b[0m\n",
      "\u001b[0;32m/home/mmarcano/anaconda3/envs/astroconda/lib/python2.7/site-packages/astropy/io/fits/file.pyc\u001b[0m in \u001b[0;36m__init__\u001b[0;34m(self, fileobj, mode, memmap, overwrite, cache)\u001b[0m\n\u001b[1;32m    148\u001b[0m             \u001b[0mself\u001b[0m\u001b[0;34m.\u001b[0m\u001b[0m_open_fileobj\u001b[0m\u001b[0;34m(\u001b[0m\u001b[0mfileobj\u001b[0m\u001b[0;34m,\u001b[0m \u001b[0mmode\u001b[0m\u001b[0;34m,\u001b[0m \u001b[0moverwrite\u001b[0m\u001b[0;34m)\u001b[0m\u001b[0;34m\u001b[0m\u001b[0m\n\u001b[1;32m    149\u001b[0m         \u001b[0;32melif\u001b[0m \u001b[0misinstance\u001b[0m\u001b[0;34m(\u001b[0m\u001b[0mfileobj\u001b[0m\u001b[0;34m,\u001b[0m \u001b[0mstring_types\u001b[0m\u001b[0;34m)\u001b[0m\u001b[0;34m:\u001b[0m\u001b[0;34m\u001b[0m\u001b[0m\n\u001b[0;32m--> 150\u001b[0;31m             \u001b[0mself\u001b[0m\u001b[0;34m.\u001b[0m\u001b[0m_open_filename\u001b[0m\u001b[0;34m(\u001b[0m\u001b[0mfileobj\u001b[0m\u001b[0;34m,\u001b[0m \u001b[0mmode\u001b[0m\u001b[0;34m,\u001b[0m \u001b[0moverwrite\u001b[0m\u001b[0;34m)\u001b[0m\u001b[0;34m\u001b[0m\u001b[0m\n\u001b[0m\u001b[1;32m    151\u001b[0m         \u001b[0;32melse\u001b[0m\u001b[0;34m:\u001b[0m\u001b[0;34m\u001b[0m\u001b[0m\n\u001b[1;32m    152\u001b[0m             \u001b[0mself\u001b[0m\u001b[0;34m.\u001b[0m\u001b[0m_open_filelike\u001b[0m\u001b[0;34m(\u001b[0m\u001b[0mfileobj\u001b[0m\u001b[0;34m,\u001b[0m \u001b[0mmode\u001b[0m\u001b[0;34m,\u001b[0m \u001b[0moverwrite\u001b[0m\u001b[0;34m)\u001b[0m\u001b[0;34m\u001b[0m\u001b[0m\n",
      "\u001b[0;32m/home/mmarcano/anaconda3/envs/astroconda/lib/python2.7/site-packages/astropy/io/fits/file.pyc\u001b[0m in \u001b[0;36m_open_filename\u001b[0;34m(self, filename, mode, overwrite)\u001b[0m\n\u001b[1;32m    504\u001b[0m             \u001b[0mself\u001b[0m\u001b[0;34m.\u001b[0m\u001b[0m_file\u001b[0m \u001b[0;34m=\u001b[0m \u001b[0mbz2\u001b[0m\u001b[0;34m.\u001b[0m\u001b[0mBZ2File\u001b[0m\u001b[0;34m(\u001b[0m\u001b[0mself\u001b[0m\u001b[0;34m.\u001b[0m\u001b[0mname\u001b[0m\u001b[0;34m,\u001b[0m \u001b[0mbzip2_mode\u001b[0m\u001b[0;34m)\u001b[0m\u001b[0;34m\u001b[0m\u001b[0m\n\u001b[1;32m    505\u001b[0m         \u001b[0;32melse\u001b[0m\u001b[0;34m:\u001b[0m\u001b[0;34m\u001b[0m\u001b[0m\n\u001b[0;32m--> 506\u001b[0;31m             \u001b[0mself\u001b[0m\u001b[0;34m.\u001b[0m\u001b[0m_file\u001b[0m \u001b[0;34m=\u001b[0m \u001b[0mfileobj_open\u001b[0m\u001b[0;34m(\u001b[0m\u001b[0mself\u001b[0m\u001b[0;34m.\u001b[0m\u001b[0mname\u001b[0m\u001b[0;34m,\u001b[0m \u001b[0mIO_FITS_MODES\u001b[0m\u001b[0;34m[\u001b[0m\u001b[0mmode\u001b[0m\u001b[0;34m]\u001b[0m\u001b[0;34m)\u001b[0m\u001b[0;34m\u001b[0m\u001b[0m\n\u001b[0m\u001b[1;32m    507\u001b[0m             \u001b[0mself\u001b[0m\u001b[0;34m.\u001b[0m\u001b[0mclose_on_error\u001b[0m \u001b[0;34m=\u001b[0m \u001b[0mTrue\u001b[0m\u001b[0;34m\u001b[0m\u001b[0m\n\u001b[1;32m    508\u001b[0m \u001b[0;34m\u001b[0m\u001b[0m\n",
      "\u001b[0;32m/home/mmarcano/anaconda3/envs/astroconda/lib/python2.7/site-packages/astropy/io/fits/util.pyc\u001b[0m in \u001b[0;36mfileobj_open\u001b[0;34m(filename, mode)\u001b[0m\n\u001b[1;32m    393\u001b[0m         \"\"\"\n\u001b[1;32m    394\u001b[0m \u001b[0;34m\u001b[0m\u001b[0m\n\u001b[0;32m--> 395\u001b[0;31m         \u001b[0;32mreturn\u001b[0m \u001b[0mopen\u001b[0m\u001b[0;34m(\u001b[0m\u001b[0mfilename\u001b[0m\u001b[0;34m,\u001b[0m \u001b[0mmode\u001b[0m\u001b[0;34m)\u001b[0m\u001b[0;34m\u001b[0m\u001b[0m\n\u001b[0m\u001b[1;32m    396\u001b[0m \u001b[0;32melse\u001b[0m\u001b[0;34m:\u001b[0m\u001b[0;34m\u001b[0m\u001b[0m\n\u001b[1;32m    397\u001b[0m     \u001b[0;32mdef\u001b[0m \u001b[0mfileobj_open\u001b[0m\u001b[0;34m(\u001b[0m\u001b[0mfilename\u001b[0m\u001b[0;34m,\u001b[0m \u001b[0mmode\u001b[0m\u001b[0;34m)\u001b[0m\u001b[0;34m:\u001b[0m\u001b[0;34m\u001b[0m\u001b[0m\n",
      "\u001b[0;31mIOError\u001b[0m: [Errno 2] No such file or directory: 'Obj7.fits'"
     ]
    }
   ],
   "source": [
    "sciTargets = {\n",
    "    'Obj-7':{'arc':'gsS20180710S0020','sky':'100:700'},\n",
    "}\n",
    "\n",
    "for targ,p in sciTargets.iteritems():\n",
    "\n",
    "    qs = qd['Full']\n",
    "    qs['Object'] = targ\n",
    "    # Fix up the target name for the output file\n",
    "    sciOut = targ.split('-')[0]+targ[-1]\n",
    "    sciFiles = fs.fileListQuery(dbFile, fs.createQuery('sciSpec', qs), qs)\n",
    "    \n",
    "    \n",
    "    #interpolate\n",
    "    scienceobect = sciOut+'.fits'\n",
    "    \n",
    "    a = fits.open(sciOut+'.fits')\n",
    "    axis1 = a[1].header['NAXIS1']\n",
    "    axis2 = a[1].header['NAXIS2']\n",
    "\n",
    "\n",
    "    #listone=[[1900 , 1970, 1, 2088],[2370,2395, 1, 2088],[300,320, 1, 2088]]\n",
    "    listone=[[2822 , 2826, 1, 2088],[1172,1180,1,2088],[2370,2400,1,2088]]\n",
    "\n",
    "    # x1 x2 y1 y2\n",
    "    filemaskbad = 'maskbadcol.txt'\n",
    "    filemaskiraf = 'maskbadcol.pl'\n",
    "    with open(filemaskbad,'w') as f:\n",
    "        for l in listone:\n",
    "            x1,x2,y1,y2 = l\n",
    "            f.write('{} {} {} {}\\n'.format(x1,x2,y1,y2))\n",
    "    iraf.text2mask(filemaskbad,filemaskiraf,axis1,axis2)\n",
    "\n",
    "    iraf.copy(scienceobect,'tempstObj.fits')\n",
    "    iraf.proto.fixpix('tempstObj.fits[SCI,1]',filemaskiraf,linterp='1,2,3,4',verbose='yes',pixel='no')\n",
    "    iraf.copy('tempstObj.fits','e'+scienceobect)\n",
    "    \n",
    "    iraf.imarith('maskbadcol.pl', '+', 'e'+scienceobect+'[dq,1]', \\\n",
    "                 'tmpdq'+'e'+scienceobect)\n",
    "    iraf.imcopy('tmpdq'+'e'+scienceobect+'[*,*]','e'+scienceobect+'[dq,1][*,*]' )\n",
    "    os.remove('tempstObj.fits')\n",
    "    os.remove('tmpdq'+'e'+scienceobect)\n",
    "\n",
    "\n",
    "    \n",
    "    gmos.gstransform ('e'+scienceobect, wavtraname=p['arc'], **transFlags)\n",
    "    gmos.gsskysub ('t'+'e'+scienceobect, long_sample=p['sky'], **skyFlags)\n"
   ]
  },
  {
   "cell_type": "code",
   "execution_count": null,
   "metadata": {},
   "outputs": [],
   "source": [
    "iraf.imdel(\"gsS2018*.fits\")"
   ]
  },
  {
   "cell_type": "markdown",
   "metadata": {},
   "source": [
    "After sky substract fix column again"
   ]
  },
  {
   "cell_type": "code",
   "execution_count": 14,
   "metadata": {},
   "outputs": [],
   "source": [
    "def fixcol(file,listcols):\n",
    "    \"\"\"Carefi; woth naxis. Should chedk with header is SCI\"\"\"\n",
    "    a = fits.open(file)\n",
    "    axis1 = a[2].header['NAXIS1']\n",
    "    axis2 = a[2].header['NAXIS2']\n",
    "    \n",
    "    scienceobect = file\n",
    "\n",
    "\n",
    "    #listone=[[1900 , 1970, 1, 2088],[2370,2395, 1, 2088],[300,320, 1, 2088]]\n",
    "    listone=[[2370,2400,1,2088]]\n",
    "\n",
    "    # x1 x2 y1 y2\n",
    "    filemaskbad = 'maskbadcol.txt'\n",
    "    filemaskiraf = 'maskbadcol.pl'\n",
    "    with open(filemaskbad,'w') as f:\n",
    "        for l in listone:\n",
    "            x1,x2,y1,y2 = l\n",
    "            f.write('{} {} {} {}\\n'.format(x1,x2,y1,y2))\n",
    "    iraf.text2mask(filemaskbad,filemaskiraf,axis1,axis2)\n",
    "\n",
    "    iraf.copy(scienceobect,'tempstObj.fits')\n",
    "    iraf.proto.fixpix('tempstObj.fits[SCI,1]',filemaskiraf,linterp='1,2,3,4',verbose='yes',pixel='no')\n",
    "    iraf.copy('tempstObj.fits','e'+scienceobect)\n",
    "    \n",
    "    iraf.imarith('maskbadcol.pl', '+', 'e'+scienceobect+'[dq,1]', \\\n",
    "                 'tmpdq'+'e'+scienceobect)\n",
    "    iraf.imcopy('tmpdq'+'e'+scienceobect+'[*,*]','e'+scienceobect+'[dq,1][*,*]' )\n",
    "    os.remove('tempstObj.fits')\n",
    "    os.remove('tmpdq'+'e'+scienceobect)"
   ]
  },
  {
   "cell_type": "code",
   "execution_count": 82,
   "metadata": {},
   "outputs": [
    {
     "name": "stdout",
     "output_type": "stream",
     "text": [
      "FIXPIX: image tempstObj.fits[SCI,1] with mask maskbadcol.pl\n",
      "tmpdqesteObj6.fits[*,*] -> esteObj6.fits[dq,1][*,*]\n"
     ]
    }
   ],
   "source": [
    "fixcol('steObj6.fits',[[2370,2400,1,2088]])"
   ]
  },
  {
   "cell_type": "markdown",
   "metadata": {},
   "source": [
    "## Try"
   ]
  },
  {
   "cell_type": "code",
   "execution_count": 71,
   "metadata": {},
   "outputs": [],
   "source": [
    "onedspec.nsum=2\n",
    "onedspec.sarith('esteObj6.fits[SCI]', 'copy', '', 'esteObj6.ms',\n",
    "                  apertures='1037-1060x2')"
   ]
  },
  {
   "cell_type": "code",
   "execution_count": null,
   "metadata": {},
   "outputs": [],
   "source": []
  },
  {
   "cell_type": "code",
   "execution_count": null,
   "metadata": {},
   "outputs": [],
   "source": []
  },
  {
   "cell_type": "markdown",
   "metadata": {},
   "source": [
    "\n",
    "pcols tObj5.fits[SCI] 1500 1700 wy1=40 \n",
    "\n",
    "prows tAM2306b.fits[SCI] 520 720 wcs='world'\n",
    "\n"
   ]
  },
  {
   "cell_type": "markdown",
   "metadata": {},
   "source": [
    "Sky http://www.gemini.edu/sciops/telescopes-and-sites/observing-condition-constraints/optical-sky-background"
   ]
  },
  {
   "cell_type": "code",
   "execution_count": null,
   "metadata": {},
   "outputs": [],
   "source": []
  },
  {
   "cell_type": "code",
   "execution_count": null,
   "metadata": {},
   "outputs": [],
   "source": []
  }
 ],
 "metadata": {
  "kernelspec": {
   "display_name": "Python 2",
   "language": "python",
   "name": "python2"
  },
  "language_info": {
   "codemirror_mode": {
    "name": "ipython",
    "version": 2
   },
   "file_extension": ".py",
   "mimetype": "text/x-python",
   "name": "python",
   "nbconvert_exporter": "python",
   "pygments_lexer": "ipython2",
   "version": "2.7.15"
  }
 },
 "nbformat": 4,
 "nbformat_minor": 2
}
