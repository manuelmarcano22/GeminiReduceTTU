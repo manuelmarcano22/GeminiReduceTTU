{
 "cells": [
  {
   "cell_type": "code",
   "execution_count": 23,
   "metadata": {},
   "outputs": [],
   "source": [
    "from stsci.tools import capable\n",
    "capable.OF_GRAPHICS = False\n",
    "\n",
    "from pyraf import iraf\n",
    "from pyraf.iraf import gemini, gemtools, gmos\n",
    "import fileSelect as fs"
   ]
  },
  {
   "cell_type": "markdown",
   "metadata": {},
   "source": [
    "First specified the directory where all the data was downloaded and extracted. Then defined the sqlite3 database. This contains the information of all the files and "
   ]
  },
  {
   "cell_type": "code",
   "execution_count": 24,
   "metadata": {},
   "outputs": [],
   "source": [
    "datadirall = 'raw/'\n",
    "databasename = datadirall+'obsLog.sqlite3'\n",
    "dbFile= datadirall+'obsLog.sqlite3'"
   ]
  },
  {
   "cell_type": "code",
   "execution_count": 25,
   "metadata": {},
   "outputs": [],
   "source": [
    "qdf = {'use_me':1}"
   ]
  },
  {
   "cell_type": "code",
   "execution_count": 36,
   "metadata": {},
   "outputs": [],
   "source": [
    "qdf = {'use_me':1,\n",
    "       'Instrument':'GMOS-S','CcdBin':'2 2','RoI':'Full',\n",
    "       'CentWave':638.94,'AperMask':'GN2011BC003-01',\n",
    "       'Object':'M81-field1',\n",
    "       'DateObs':'2018-07-16'\n",
    "       }"
   ]
  },
  {
   "cell_type": "code",
   "execution_count": 37,
   "metadata": {},
   "outputs": [],
   "source": [
    "SQL = fs.createQuery('bias', qdf)"
   ]
  },
  {
   "cell_type": "code",
   "execution_count": 38,
   "metadata": {},
   "outputs": [
    {
     "data": {
      "text/plain": [
       "\"SELECT file FROM obslog WHERE\\n    use_me=1 AND ObsType='BIAS' AND ObsClass LIKE '%Cal'\\n    AND Instrument=:Instrument AND RoI=:RoI AND CcdBin=:CcdBin\\n     AND DateObs=:DateObs\""
      ]
     },
     "execution_count": 38,
     "metadata": {},
     "output_type": "execute_result"
    }
   ],
   "source": [
    "SQL"
   ]
  },
  {
   "cell_type": "code",
   "execution_count": 29,
   "metadata": {},
   "outputs": [],
   "source": [
    "biasFull = fs.fileListQuery(dbFile, SQL, qdf)"
   ]
  },
  {
   "cell_type": "code",
   "execution_count": 30,
   "metadata": {},
   "outputs": [],
   "source": [
    "gemtools.gemextn.unlearn()    # Disarm a bug in gbias\n",
    "gmos.gbias.unlearn()\n",
    "biasFlags = {\n",
    "    'logfile':'biasLog.txt','rawpath':'./raw/','fl_vardq':'yes',\n",
    "    'verbose':'no'\n",
    "}"
   ]
  },
  {
   "cell_type": "code",
   "execution_count": 31,
   "metadata": {},
   "outputs": [
    {
     "name": "stdout",
     "output_type": "stream",
     "text": [
      "\n",
      "WARNING - GEMCOMBINE: five or less images to combine.\n",
      "WARNING - GEMCOMBINE: five or less images to combine.\n",
      "WARNING - GEMCOMBINE: five or less images to combine.\n",
      "WARNING - GEMCOMBINE: five or less images to combine.\n",
      "WARNING - GEMCOMBINE: five or less images to combine.\n",
      "WARNING - GEMCOMBINE: five or less images to combine.\n",
      "WARNING - GEMCOMBINE: five or less images to combine.\n",
      "WARNING - GEMCOMBINE: five or less images to combine.\n",
      "WARNING - GEMCOMBINE: five or less images to combine.\n",
      "WARNING - GEMCOMBINE: five or less images to combine.\n",
      "WARNING - GEMCOMBINE: five or less images to combine.\n",
      "WARNING - GEMCOMBINE: five or less images to combine.\n"
     ]
    }
   ],
   "source": [
    "if len(biasFull) > 1:\n",
    "    gmos.gbias(','.join(str(x) for x in biasFull), 'MCbiasFull',\n",
    "               **biasFlags)"
   ]
  },
  {
   "cell_type": "code",
   "execution_count": 10,
   "metadata": {},
   "outputs": [
    {
     "data": {
      "text/plain": [
       "\"SELECT file FROM obslog WHERE\\n    use_me=1 AND ObsType='BIAS' AND ObsClass LIKE '%Cal'\\n    AND Instrument=:Instrument AND RoI=:RoI AND CcdBin=:CcdBin\\n     AND DateObs=:DateObs\""
      ]
     },
     "execution_count": 10,
     "metadata": {},
     "output_type": "execute_result"
    }
   ],
   "source": [
    "SQL"
   ]
  },
  {
   "cell_type": "code",
   "execution_count": 11,
   "metadata": {},
   "outputs": [
    {
     "name": "stdout",
     "output_type": "stream",
     "text": [
      "SELECT file FROM obslog WHERE\n",
      "    use_me=1 AND ObsType='BIAS' AND ObsClass LIKE '%Cal'\n",
      "    AND Instrument=:Instrument AND RoI=:RoI AND CcdBin=:CcdBin\n",
      "     AND DateObs=:DateObs\n"
     ]
    }
   ],
   "source": [
    "print(SQL)"
   ]
  },
  {
   "cell_type": "code",
   "execution_count": 12,
   "metadata": {},
   "outputs": [
    {
     "data": {
      "text/plain": [
       "[u'S20180716S0066',\n",
       " u'S20180716S0067',\n",
       " u'S20180716S0068',\n",
       " u'S20180716S0069',\n",
       " u'S20180716S0070']"
      ]
     },
     "execution_count": 12,
     "metadata": {},
     "output_type": "execute_result"
    }
   ],
   "source": [
    "biasFull[0:5]"
   ]
  },
  {
   "cell_type": "code",
   "execution_count": null,
   "metadata": {},
   "outputs": [],
   "source": []
  }
 ],
 "metadata": {
  "kernelspec": {
   "display_name": "Python 2",
   "language": "python",
   "name": "python2"
  },
  "language_info": {
   "codemirror_mode": {
    "name": "ipython",
    "version": 2
   },
   "file_extension": ".py",
   "mimetype": "text/x-python",
   "name": "python",
   "nbconvert_exporter": "python",
   "pygments_lexer": "ipython2",
   "version": "2.7.17"
  }
 },
 "nbformat": 4,
 "nbformat_minor": 2
}
