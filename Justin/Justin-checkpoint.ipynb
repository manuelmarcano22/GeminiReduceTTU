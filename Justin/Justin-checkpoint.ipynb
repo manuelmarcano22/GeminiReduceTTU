{
 "cells": [
  {
   "cell_type": "code",
   "execution_count": 1,
   "metadata": {},
   "outputs": [
    {
     "name": "stderr",
     "output_type": "stream",
     "text": [
      "uparm parameter list `/home/mmarcano/anaconda3/envs/Gemini/iraf/noao/imred/ccdred/ccdtest/ccdtest.par' inconsistent with default parameters for IrafPkg `ccdtest'\n"
     ]
    }
   ],
   "source": [
    "from stsci.tools import capable\n",
    "capable.OF_GRAPHICS = False\n",
    "\n",
    "from pyraf import iraf\n",
    "from pyraf.iraf import gemini, gemtools, gmos, onedspec\n",
    "import fileSelect as fs\n",
    "import copy, os\n",
    "from astropy.io import fits\n"
   ]
  },
  {
   "cell_type": "code",
   "execution_count": 2,
   "metadata": {},
   "outputs": [
    {
     "data": {
      "text/plain": [
       "u'/home/mmarcano/Documents/GeminiReduceTTU/Justin'"
      ]
     },
     "execution_count": 2,
     "metadata": {},
     "output_type": "execute_result"
    }
   ],
   "source": [
    "pwd"
   ]
  },
  {
   "cell_type": "markdown",
   "metadata": {},
   "source": [
    "First specified the directory where all the data was downloaded and extracted. Then defined the sqlite3 database. This contains the information of all the files. This obsLog.sqlite3 file was created by the python script obslog.py in the raw data directory. The script will create a database with the fields and metadata"
   ]
  },
  {
   "cell_type": "code",
   "execution_count": 3,
   "metadata": {},
   "outputs": [],
   "source": [
    "datadirall = 'raw/'\n",
    "databasename = datadirall+'obsLog.sqlite3'\n",
    "dbFile= datadirall+'obsLog.sqlite3'"
   ]
  },
  {
   "cell_type": "markdown",
   "metadata": {},
   "source": [
    " From the work_directory:\n",
    " Create the query dictionary of essential parameter=value pairs.\n",
    " \n",
    " "
   ]
  },
  {
   "cell_type": "code",
   "execution_count": 4,
   "metadata": {},
   "outputs": [],
   "source": [
    "qd = {'Full':{'use_me':1,\n",
    "       'Instrument':'GMOS-N','CcdBin':'1 4','RoI':'Full',\n",
    "       'Disperser':'R400+_G5305','CentWave':656.0,'AperMask':'1.5arcsec',\n",
    "       'Object':'1WGA J1011.9+5424',\n",
    "       'DateObs':'2018-09-15:2020-09-30'}\n",
    "      }\n"
   ]
  },
  {
   "cell_type": "markdown",
   "metadata": {},
   "source": [
    " In the tutorial there are two regions but here only one and it is full. Just changed the regions list to only Full. It should work. Bias only depend on:\n",
    " instrument Roi and CcdBin according to fileSelect file\n",
    " \n",
    "     use_me=1 AND ObsType='BIAS' AND ObsClass LIKE '%Cal'\n",
    "    AND Instrument=:Instrument AND RoI=:RoI AND CcdBin=:CcdBin"
   ]
  },
  {
   "cell_type": "code",
   "execution_count": 5,
   "metadata": {},
   "outputs": [
    {
     "name": "stdout",
     "output_type": "stream",
     "text": [
      "ERROR - GBIAS: Output file MCbiasFull.fits already exists.\n"
     ]
    }
   ],
   "source": [
    "gemtools.gemextn.unlearn()    # Disarm a bug in gbias\n",
    "gmos.gbias.unlearn()\n",
    "biasFlags = {\n",
    "    'logfile':'biasLog.txt','rawpath':'raw/','fl_vardq':'yes','verbose':'no'\n",
    "}\n",
    "regions = ['Full']\n",
    "for r in regions:\n",
    "    # The following SQL generates the list of full-frame files to process.\n",
    "    SQL = fs.createQuery('bias', qd[r])\n",
    "    biasFiles = fs.fileListQuery(dbFile, SQL, qd[r])\n",
    "\n",
    "    # The str.join() funciton is needed to transform a python list into a\n",
    "    # comma-separated string of file names that IRAF can understand.\n",
    "    if len(biasFiles) > 1:\n",
    "        gmos.gbias(','.join(str(x) for x in biasFiles[0:10]), 'MCbias'+r,\n",
    "                   **biasFlags)"
   ]
  },
  {
   "cell_type": "markdown",
   "metadata": {},
   "source": [
    "# Flat Field"
   ]
  },
  {
   "cell_type": "code",
   "execution_count": 6,
   "metadata": {},
   "outputs": [
    {
     "name": "stdout",
     "output_type": "stream",
     "text": [
      "ERROR - GSFLAT: Output file MCflatFull already exists.\n",
      "ERROR - GSFLAT: 1 fatal errors found.\n",
      " \n",
      "ERROR - GSFLAT: Program execution failed with 1 errors.\n"
     ]
    }
   ],
   "source": [
    "# Set the task parameters.\n",
    "qd['Full'].update({'DateObs':'*'})\n",
    "gmos.gireduce.unlearn()\n",
    "gmos.gsflat.unlearn()\n",
    "# The response fitting should be done interactively.\n",
    "flatFlags = {\n",
    "    'fl_over':'yes','fl_trim':'yes','fl_bias':'yes','fl_dark':'no',\n",
    "    'fl_fixpix':'no','fl_oversize':'no','fl_vardq':'yes','fl_fulldq':'yes',\n",
    "    'rawpath':'raw/','fl_inter':'no','fl_detec':'yes',\n",
    "    'function':'spline3','order':'13,11,28',\n",
    "    'logfile':'gsflatLog.txt','verbose':'no'\n",
    "    }\n",
    "for r in regions:\n",
    "    qr = qd[r]\n",
    "    flatFiles = fs.fileListQuery(dbFile, fs.createQuery('gcalFlat', qr), qr)\n",
    "    if len(flatFiles) > 0:\n",
    "        gmos.gsflat (','.join(str(x) for x in flatFiles), 'MCflat'+r,\n",
    "                bias='MCbias'+r, **flatFlags)\n"
   ]
  },
  {
   "cell_type": "markdown",
   "metadata": {},
   "source": [
    "# Basic Reduction"
   ]
  },
  {
   "cell_type": "code",
   "execution_count": 7,
   "metadata": {},
   "outputs": [
    {
     "name": "stdout",
     "output_type": "stream",
     "text": [
      "ERROR - GSREDUCE: Output image gsN20191127S0396 exists\n",
      "ERROR - GSREDUCE: Output image gsN20191127S0397 exists\n",
      "ERROR - GSREDUCE: Output image gsN20191203S0371 exists\n",
      "ERROR - GSREDUCE: Output image gsN20191203S0372 exists\n",
      "ERROR - GSREDUCE: Output image gsN20191205S0111 exists\n",
      "ERROR - GSREDUCE: Output image gsN20191205S0112 exists\n",
      " \n",
      "ERROR - GSREDUCE: Program execution failed with 6 errors\n",
      "ERROR - GSREDUCE: Output image gsN20191127S0262 exists\n",
      "ERROR - GSREDUCE: Output image gsN20191127S0263 exists\n",
      "ERROR - GSREDUCE: Output image gsN20191127S0264 exists\n",
      "ERROR - GSREDUCE: Output image gsN20191127S0265 exists\n",
      "ERROR - GSREDUCE: Output image gsN20191127S0266 exists\n",
      "ERROR - GSREDUCE: Output image gsN20191127S0267 exists\n",
      "ERROR - GSREDUCE: Output image gsN20191203S0187 exists\n",
      "ERROR - GSREDUCE: Output image gsN20191203S0188 exists\n",
      "ERROR - GSREDUCE: Output image gsN20191205S0097 exists\n",
      "ERROR - GSREDUCE: Output image gsN20191205S0098 exists\n",
      "ERROR - GSREDUCE: Output image gsN20191205S0099 exists\n",
      "ERROR - GSREDUCE: Output image gsN20191205S0100 exists\n",
      "ERROR - GSREDUCE: Output image gsN20191205S0101 exists\n",
      "ERROR - GSREDUCE: Output image gsN20191205S0102 exists\n",
      "ERROR - GSREDUCE: Output image gsN20191205S0105 exists\n",
      "ERROR - GSREDUCE: Output image gsN20191205S0107 exists\n",
      "ERROR - GSREDUCE: Output image gsN20191205S0108 exists\n",
      "ERROR - GSREDUCE: Output image gsN20191205S0109 exists\n",
      "ERROR - GSREDUCE: Output image gsN20191205S0110 exists\n",
      " \n",
      "ERROR - GSREDUCE: Program execution failed with 19 errors\n"
     ]
    }
   ],
   "source": [
    "# Set task parameters.\n",
    "gmos.gsreduce.unlearn()\n",
    "sciFlags = {\n",
    "    'fl_over':'yes','fl_trim':'yes','fl_bias':'yes','fl_gscrrej':'no',\n",
    "    'fl_dark':'no','fl_flat':'yes','fl_gmosaic':'yes','fl_fixpix':'no',\n",
    "    'fl_gsappwave':'yes','fl_oversize':'no',\n",
    "    'fl_vardq':'yes','fl_fulldq':'yes','rawpath':'raw/',\n",
    "    'fl_inter':'no','logfile':'gsreduceLog.txt','verbose':'no'\n",
    "}\n",
    "arcFlags = copy.deepcopy(sciFlags)\n",
    "arcFlags.update({'fl_flat':'no','fl_vardq':'no','fl_fulldq':'no'})\n",
    "\n",
    "\n",
    "# Arc exposures\n",
    "for r in regions:\n",
    "    qr = qd[r]\n",
    "    arcFiles = fs.fileListQuery(dbFile, fs.createQuery('arc', qr), qr)\n",
    "    if len(arcFiles) > 0:\n",
    "        gmos.gsreduce (','.join(str(x) for x in arcFiles), bias='MCbias'+r,\n",
    "                  **arcFlags)\n",
    "\n",
    "\n",
    "# Science exposures\n",
    "r = 'Full'\n",
    "sciFiles = fs.fileListQuery(dbFile, fs.createQuery('sciSpec', qd[r]), qd[r])\n",
    "if len(sciFiles) > 0:\n",
    "    gmos.gsreduce (','.join(str(x) for x in sciFiles), bias='MCbias'+r,\n",
    "              flatim='MCflat'+r, **sciFlags)"
   ]
  },
  {
   "cell_type": "code",
   "execution_count": 9,
   "metadata": {},
   "outputs": [
    {
     "name": "stdout",
     "output_type": "stream",
     "text": [
      "GPREPARE: Using MDF defined in the header 1.5arcsec\n"
     ]
    }
   ],
   "source": [
    "# Arc exposures\n",
    "for r in regions:\n",
    "    qr = qd[r]\n",
    "    arcFiles = fs.fileListQuery(dbFile, fs.createQuery('arc', qr), qr)\n",
    "    if len(arcFiles) > 0:\n",
    "        gmos.gsreduce ('N20200128S0461.fits', bias='MCbias'+r,\n",
    "                  **arcFlags)"
   ]
  },
  {
   "cell_type": "markdown",
   "metadata": {},
   "source": [
    "# Wavelength Calibration (Check this later)\n",
    "\n",
    "**Image rectification and wavelength linearization depend upon the wavelength calibration, using the arc lamp exposures taken immediately before each sequence of science and standard star exposures** (see Wavelength Calibration). In this case, the default medium-resolution line list will work well. The fit to the dispersion relation should be performed interactively, but for expediency we will use a previously determined functional fit. \n",
    "\n"
   ]
  },
  {
   "cell_type": "code",
   "execution_count": 10,
   "metadata": {},
   "outputs": [],
   "source": [
    "arcname = 'N20191205S0111.fits'"
   ]
  },
  {
   "cell_type": "code",
   "execution_count": null,
   "metadata": {},
   "outputs": [],
   "source": [
    "# Set task parameters\n",
    "gmos.gswavelength.unlearn()\n",
    "waveFlags = {\n",
    "    'coordlist':'gmos$data/CuAr_GMOS.dat','fwidth':6,'nsum':50,\n",
    "    'function':'chebyshev','order':5,\n",
    "    'fl_inter':'no','logfile':'gswaveLog.txt','verbose':'yes'\n",
    "    }\n",
    "# Must select specific wavecals to match science exposures.\n",
    "prefix = 'gs'\n",
    "for arc in [arcname]:\n",
    "    print(arc)\n",
    "    gmos.gswavelength (prefix+arc, **waveFlags)"
   ]
  },
  {
   "cell_type": "markdown",
   "metadata": {},
   "source": [
    "# Advanced Processing\n",
    "\n",
    "\n",
    "In the example tutorial:\n",
    "\n",
    ">The targets in this program were observed in 3 slit orientations, and a few exposures were obtained at each position. This provides an opportunity to combine the sequential exposures at each position to remove cosmic rays, rather than rejecting CRs on single frames using the gsreduce.fl_gscrrej+ flag or running the gemcrspec task. The combined exposures for each target are then wavelength calibrated, and sky subtracted. First set the processing parameters.\n",
    "\n",
    "Here we have two exposures of the same thing. Supposed it is the same. "
   ]
  },
  {
   "cell_type": "code",
   "execution_count": 11,
   "metadata": {},
   "outputs": [],
   "source": [
    "gmos.gstransform.unlearn()\n",
    "transFlags = {\n",
    "    'fl_vardq':'yes','interptype':'linear','fl_flux':'yes',\n",
    "    'logfile':'gstransLog.txt'\n",
    "}\n",
    "# The sky regions should be selected with care, using e.g. prows/pcols:\n",
    "#   pcols (\"tAM2306b.fits[SCI]\", 1100, 2040, wy1=40, wy2=320)\n",
    "gmos.gsskysub.unlearn()\n",
    "skyFlags = {\n",
    "    'fl_oversize':'no','fl_vardq':'yes','logfile':'gsskysubLog.txt'\n",
    "}\n",
    "#sciFiles = fs.fileListQuery(dbFile, fs.createQuery('sciSpec', qs), qs)\n"
   ]
  },
  {
   "cell_type": "code",
   "execution_count": 22,
   "metadata": {},
   "outputs": [],
   "source": [
    "arcname2 = 'gsN20191127S0396'"
   ]
  },
  {
   "cell_type": "code",
   "execution_count": 26,
   "metadata": {},
   "outputs": [
    {
     "data": {
      "text/plain": [
       "[u'N20191127S0262',\n",
       " u'N20191127S0263',\n",
       " u'N20191127S0264',\n",
       " u'N20191127S0265',\n",
       " u'N20191127S0266',\n",
       " u'N20191127S0267',\n",
       " u'N20191203S0187',\n",
       " u'N20191203S0188',\n",
       " u'N20191205S0097',\n",
       " u'N20191205S0098',\n",
       " u'N20191205S0099',\n",
       " u'N20191205S0100',\n",
       " u'N20191205S0101',\n",
       " u'N20191205S0102',\n",
       " u'N20191205S0105',\n",
       " u'N20191205S0107',\n",
       " u'N20191205S0108',\n",
       " u'N20191205S0109',\n",
       " u'N20191205S0110']"
      ]
     },
     "execution_count": 26,
     "metadata": {},
     "output_type": "execute_result"
    }
   ],
   "source": [
    "sciFiles"
   ]
  },
  {
   "cell_type": "code",
   "execution_count": null,
   "metadata": {},
   "outputs": [],
   "source": []
  },
  {
   "cell_type": "code",
   "execution_count": 24,
   "metadata": {},
   "outputs": [
    {
     "name": "stdout",
     "output_type": "stream",
     "text": [
      "-------------------------------------------------------------------------------\n",
      "GSTRANSFORM -- Wed Jan 29 18:28:41 CST 2020\n",
      " \n",
      "\n",
      "inimages   = gsN20191127S0262\n",
      "outimages  = \n",
      "outprefix  = t\n",
      "fl_stran   = no\n",
      "fl_wavtran = yes\n",
      "wavtraname = gsN20191127S0396\n",
      "database   = database\n",
      "fl_vardq   = yes\n",
      "interptype = linear\n",
      "lambda1    = INDEF\n",
      "lambda2    = INDEF\n",
      "dx         = INDEF\n",
      "nx         = INDEF\n",
      "lambdalog  = no\n",
      "ylog       = no\n",
      "fl_flux    = yes\n",
      "gratingdb  = gmos$data/GMOSgratings.dat\n",
      "filterdb   = gmos$data/GMOSfilters.dat\n",
      "key_dispaxis = DISPAXIS\n",
      "dispaxis   = 1\n",
      "sci_ext    = SCI\n",
      "var_ext = VAR\n",
      "dq_ext  = DQ\n",
      "\n",
      "Transforming gsN20191127S0262.fits[SCI,1]\n",
      "MDF row: 1\n",
      "\n",
      "NOAO/IRAF V2.16 mmarcano@tux Wed 18:28:42 29-Jan-2020\n",
      "  Transform gsN20191127S0262.fits[SCI,1] to tmpsci20811_94.\n",
      "  Conserve flux per pixel.\n",
      "  User coordinate transformations:\n",
      "    gsN20191127S0396_001\n",
      "  Interpolation is linear.\n",
      "  Using edge extension for out of bounds pixel values.\n",
      "  Output coordinate parameters are:\n",
      "    x1 =      4217., x2 =      8957., dx =     0.7551, nx = 6278, xlog = no\n",
      "    y1 =         1., y2 =      1044., dy =         1., ny = 1044, ylog = no\n",
      "\n",
      "NOAO/IRAF V2.16 mmarcano@tux Wed 18:28:43 29-Jan-2020\n",
      "  Transform gsN20191127S0262.fits[VAR,1] to tmpvar20811_95.\n",
      "  Conserve flux per pixel.\n",
      "  User coordinate transformations:\n",
      "    gsN20191127S0396_001\n",
      "  Interpolation is linear.\n",
      "  Using edge extension for out of bounds pixel values.\n",
      "  Output coordinate parameters are:\n",
      "    x1 =      4217., x2 =      8957., dx =     0.7551, nx = 6278, xlog = no\n",
      "    y1 =         1., y2 =      1044., dy =         1., ny = 1044, ylog = no\n",
      "\n",
      "NOAO/IRAF V2.16 mmarcano@tux Wed 18:28:44 29-Jan-2020\n",
      "  Transform gsN20191127S0262.fits[DQ,1] to tmpdq20811_96.\n",
      "  User coordinate transformations:\n",
      "    gsN20191127S0396_001\n",
      "  Interpolation is linear.\n",
      "  Using edge extension for out of bounds pixel values.\n",
      "  Output coordinate parameters are:\n",
      "    x1 =      4217., x2 =      8957., dx =     0.7551, nx = 6278, xlog = no\n",
      "    y1 =         1., y2 =      1044., dy =         1., ny = 1044, ylog = no\n",
      "\n",
      "GSTRANSFORM exit status: good\n",
      "-------------------------------------------------------------------------------\n",
      "\n",
      "----------------------------------------------------------------------------\n",
      "GSSKYSUB -- Wed Jan 29 18:28:45 CST 2020\n",
      "\n",
      "input        = tgsN20191127S0262\n",
      "output       = \n",
      "outpref      = s\n",
      "fl_vardq     = yes\n",
      "fl_oversize  = no\n",
      "sci_ext      = SCI\n",
      "var_ext      = VAR\n",
      "dq_ext       = DQ\n",
      "long_sample  = 100-200\n",
      "mos_sample   = 0.9\n",
      "mosobjsize   = 1.0\n",
      "naverage     = 1\n",
      "function     = chebyshev\n",
      "order        = 1\n",
      "low_reject   = 2.5\n",
      "high_reject  = 2.5\n",
      "niterate     = 2\n",
      "grow         = 0.0\n",
      "fl_inter     = no\n",
      "\n",
      " \n",
      "GSSKYSUB: Sky-subtraction started\n",
      " \n",
      "  Input image     = tgsN20191127S0262.fits\n",
      "  Output image    = stgsN20191127S0262.fits\n",
      "  Observing mode  = LONGSLIT\n",
      "  Number of slits = 1\n",
      "  Slit #1 ; background sample = [100-200]\n",
      "         RMS of the fit (for VAR plane propagation) = 417.2498\n",
      "\n",
      "GSSKYSUB done. Exit status good -- Wed Jan 29 18:28:57 CST 2020\n",
      "-------------------------------------------------------------------------------\n",
      "\n"
     ]
    }
   ],
   "source": [
    "name = 'gsN20191127S0262'\n",
    "sky = '100-200'\n",
    "sciOut = name\n",
    "#sciFiles = fs.fileListQuery(dbFile, fs.createQuery('sciSpec', qs), qs)\n",
    "\n",
    "gmos.gstransform (sciOut, wavtraname=arcname2, **transFlags)\n",
    "gmos.gsskysub ('t'+sciOut, long_sample=sky, **skyFlags)"
   ]
  },
  {
   "cell_type": "markdown",
   "metadata": {},
   "source": [
    "After sky substract fix column again"
   ]
  }
 ],
 "metadata": {
  "kernelspec": {
   "display_name": "Python 2",
   "language": "python",
   "name": "python2"
  },
  "language_info": {
   "codemirror_mode": {
    "name": "ipython",
    "version": 2
   },
   "file_extension": ".py",
   "mimetype": "text/x-python",
   "name": "python",
   "nbconvert_exporter": "python",
   "pygments_lexer": "ipython2",
   "version": "2.7.15"
  }
 },
 "nbformat": 4,
 "nbformat_minor": 2
}
