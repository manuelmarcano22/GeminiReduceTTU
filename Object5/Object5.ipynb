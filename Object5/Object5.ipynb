{
 "cells": [
  {
   "cell_type": "code",
   "execution_count": 4,
   "metadata": {},
   "outputs": [],
   "source": [
    "from stsci.tools import capable\n",
    "capable.OF_GRAPHICS = False\n",
    "\n",
    "from pyraf import iraf\n",
    "from pyraf.iraf import gemini, gemtools, gmos\n",
    "import fileSelect as fs\n",
    "import copy"
   ]
  },
  {
   "cell_type": "code",
   "execution_count": 5,
   "metadata": {},
   "outputs": [
    {
     "data": {
      "text/plain": [
       "u'/home/mmarcano/Documents/GeminiReduceTTU/Object5'"
      ]
     },
     "execution_count": 5,
     "metadata": {},
     "output_type": "execute_result"
    }
   ],
   "source": [
    "pwd"
   ]
  },
  {
   "cell_type": "markdown",
   "metadata": {},
   "source": [
    "First specified the directory where all the data was downloaded and extracted. Then defined the sqlite3 database. This contains the information of all the files and "
   ]
  },
  {
   "cell_type": "code",
   "execution_count": 6,
   "metadata": {},
   "outputs": [],
   "source": [
    "datadirall = '../raw/'\n",
    "databasename = datadirall+'obsLog.sqlite3'\n",
    "dbFile= datadirall+'obsLog.sqlite3'"
   ]
  },
  {
   "cell_type": "markdown",
   "metadata": {},
   "source": [
    " From the work_directory:\n",
    " Create the query dictionary of essential parameter=value pairs."
   ]
  },
  {
   "cell_type": "code",
   "execution_count": 8,
   "metadata": {},
   "outputs": [],
   "source": [
    "qd = {'Full':{'use_me':1,\n",
    "       'Instrument':'GMOS-S','CcdBin':'2 2','RoI':'Full',\n",
    "       'Disperser':'R400+_G5325','CentWave':656.0,'AperMask':'0.5arcsec',\n",
    "       'Object':'Obj-5',\n",
    "       'DateObs':'2018-09-25'}\n",
    "      }\n"
   ]
  },
  {
   "cell_type": "markdown",
   "metadata": {},
   "source": [
    " In the tutorial there are two regions but here only one and it is full. Just changed the regions list to only Full. It should workl"
   ]
  },
  {
   "cell_type": "code",
   "execution_count": 9,
   "metadata": {},
   "outputs": [
    {
     "name": "stdout",
     "output_type": "stream",
     "text": [
      "\n",
      "WARNING - GEMCOMBINE: five or less images to combine.\n",
      "WARNING - GEMCOMBINE: five or less images to combine.\n",
      "WARNING - GEMCOMBINE: five or less images to combine.\n",
      "WARNING - GEMCOMBINE: five or less images to combine.\n",
      "WARNING - GEMCOMBINE: five or less images to combine.\n",
      "WARNING - GEMCOMBINE: five or less images to combine.\n",
      "WARNING - GEMCOMBINE: five or less images to combine.\n",
      "WARNING - GEMCOMBINE: five or less images to combine.\n",
      "WARNING - GEMCOMBINE: five or less images to combine.\n",
      "WARNING - GEMCOMBINE: five or less images to combine.\n",
      "WARNING - GEMCOMBINE: five or less images to combine.\n",
      "WARNING - GEMCOMBINE: five or less images to combine.\n"
     ]
    },
    {
     "ename": "KeyError",
     "evalue": "'CenSp'",
     "output_type": "error",
     "traceback": [
      "\u001b[0;31m---------------------------------------------------------------------------\u001b[0m",
      "\u001b[0;31mKeyError\u001b[0m                                  Traceback (most recent call last)",
      "\u001b[0;32m<ipython-input-9-91660d071aa4>\u001b[0m in \u001b[0;36m<module>\u001b[0;34m()\u001b[0m\n\u001b[1;32m      7\u001b[0m \u001b[0;32mfor\u001b[0m \u001b[0mr\u001b[0m \u001b[0;32min\u001b[0m \u001b[0mregions\u001b[0m\u001b[0;34m:\u001b[0m\u001b[0;34m\u001b[0m\u001b[0m\n\u001b[1;32m      8\u001b[0m     \u001b[0;31m# The following SQL generates the list of full-frame files to process.\u001b[0m\u001b[0;34m\u001b[0m\u001b[0;34m\u001b[0m\u001b[0m\n\u001b[0;32m----> 9\u001b[0;31m     \u001b[0mSQL\u001b[0m \u001b[0;34m=\u001b[0m \u001b[0mfs\u001b[0m\u001b[0;34m.\u001b[0m\u001b[0mcreateQuery\u001b[0m\u001b[0;34m(\u001b[0m\u001b[0;34m'bias'\u001b[0m\u001b[0;34m,\u001b[0m \u001b[0mqd\u001b[0m\u001b[0;34m[\u001b[0m\u001b[0mr\u001b[0m\u001b[0;34m]\u001b[0m\u001b[0;34m)\u001b[0m\u001b[0;34m\u001b[0m\u001b[0m\n\u001b[0m\u001b[1;32m     10\u001b[0m     \u001b[0mbiasFiles\u001b[0m \u001b[0;34m=\u001b[0m \u001b[0mfs\u001b[0m\u001b[0;34m.\u001b[0m\u001b[0mfileListQuery\u001b[0m\u001b[0;34m(\u001b[0m\u001b[0mdbFile\u001b[0m\u001b[0;34m,\u001b[0m \u001b[0mSQL\u001b[0m\u001b[0;34m,\u001b[0m \u001b[0mqd\u001b[0m\u001b[0;34m[\u001b[0m\u001b[0mr\u001b[0m\u001b[0;34m]\u001b[0m\u001b[0;34m)\u001b[0m\u001b[0;34m\u001b[0m\u001b[0m\n\u001b[1;32m     11\u001b[0m \u001b[0;34m\u001b[0m\u001b[0m\n",
      "\u001b[0;31mKeyError\u001b[0m: 'CenSp'"
     ]
    }
   ],
   "source": [
    "gemtools.gemextn.unlearn()    # Disarm a bug in gbias\n",
    "gmos.gbias.unlearn()\n",
    "biasFlags = {\n",
    "    'logfile':'biasLog.txt','rawpath':'../raw/','fl_vardq':'yes','verbose':'no'\n",
    "}\n",
    "regions = ['Full','CenSp']\n",
    "for r in regions:\n",
    "    # The following SQL generates the list of full-frame files to process.\n",
    "    SQL = fs.createQuery('bias', qd[r])\n",
    "    biasFiles = fs.fileListQuery(dbFile, SQL, qd[r])\n",
    "\n",
    "    # The str.join() funciton is needed to transform a python list into a\n",
    "    # comma-separated string of file names that IRAF can understand.\n",
    "    if len(biasFiles) > 1:\n",
    "        gmos.gbias(','.join(str(x) for x in biasFiles), 'MCbias'+r,\n",
    "                   **biasFlags)"
   ]
  },
  {
   "cell_type": "markdown",
   "metadata": {},
   "source": [
    "# Flat Field"
   ]
  },
  {
   "cell_type": "code",
   "execution_count": 22,
   "metadata": {},
   "outputs": [
    {
     "name": "stdout",
     "output_type": "stream",
     "text": [
      "GPREPARE: Using MDF defined in the header 1.0arcsec\n",
      "WARNING - GIREDUCE: Bad Pixel Mask filename is an empty string\n",
      "                    Only saturated pixels will be flagged\n",
      "GPREPARE: Using MDF defined in the header 1.0arcsec\n",
      "WARNING - GIREDUCE: Bad Pixel Mask filename is an empty string\n",
      "                    Only saturated pixels will be flagged\n",
      "GPREPARE: Using MDF defined in the header 1.0arcsec\n",
      "WARNING - GIREDUCE: Bad Pixel Mask filename is an empty string\n",
      "                    Only saturated pixels will be flagged\n",
      "GPREPARE: Using MDF defined in the header 1.0arcsec\n",
      "WARNING - GIREDUCE: Bad Pixel Mask filename is an empty string\n",
      "                    Only saturated pixels will be flagged\n",
      "GPREPARE: Using MDF defined in the header 1.0arcsec\n",
      "WARNING - GIREDUCE: Bad Pixel Mask filename is an empty string\n",
      "                    Only saturated pixels will be flagged\n",
      "GPREPARE: Using MDF defined in the header 1.0arcsec\n",
      "WARNING - GIREDUCE: Bad Pixel Mask filename is an empty string\n",
      "                    Only saturated pixels will be flagged\n",
      "GPREPARE: Using MDF defined in the header 1.0arcsec\n",
      "WARNING - GIREDUCE: Bad Pixel Mask filename is an empty string\n",
      "                    Only saturated pixels will be flagged\n",
      "--------------------------------------------------------------------------------\n",
      "GEMCOMBINE -- Wed Oct 31 18:00:32 CDT 2018\n",
      " \n",
      "GEMCOMBINE: input = @tmpscilist26692_666\n",
      "GEMCOMBINE: output = tmpcombflat26692_669\n",
      "GEMCOMBINE: title = \n",
      "GEMCOMBINE: bpmfile = \n",
      "GEMCOMBINE: sci_ext = SCI\n",
      "GEMCOMBINE: var_ext = VAR\n",
      "GEMCOMBINE: dq_ext = DQ\n",
      " \n",
      "\n",
      "Oct 31 18:00: IMCOMBINE\n",
      "  combine = average, scale = mean, zero = none, weight = none\n",
      "  reject = avsigclip, mclip = yes, nkeep = 0\n",
      "  lsigma = 3., hsigma = 3.\n",
      "  blank = 0.\n",
      "  statsec = Oct 31 18:00\n",
      "                Images     Exp    Mean  Scale\n",
      "  gsS20070623S0061.fits[SCI,1]    1.5  66650.  1.000\n",
      "  gsS20070623S0070.fits[SCI,1]    1.5  69349.  0.961\n",
      "  gsS20070623S0080.fits[SCI,1]    1.5  70930.  0.940\n",
      "  gsS20070623S0090.fits[SCI,1]    1.5  69726.  0.956\n",
      "  gsS20070624S0066.fits[SCI,1]    1.5  71831.  0.928\n",
      "  gsS20070624S0075.fits[SCI,1]    1.5  67276.  0.991\n",
      "  gsS20070724S0042.fits[SCI,1]    1.5  50275.  1.326\n",
      "\n",
      "  Output image = tmpcombout26692_846, ncombine = 7\n",
      "  Number rejected mask = tmpcombdq26692_847.pl\n",
      "  Sigma image = tmpcombsig26692_848\n",
      "\n",
      "Oct 31 18:00: IMCOMBINE\n",
      "  combine = average, scale = mean, zero = none, weight = none\n",
      "  reject = avsigclip, mclip = yes, nkeep = 0\n",
      "  lsigma = 3., hsigma = 3.\n",
      "  blank = 0.\n",
      "  statsec = Oct 31 18:00\n",
      "                Images     Exp    Mean  Scale\n",
      "  gsS20070623S0061.fits[SCI,2]    1.5  58100.  1.000\n",
      "  gsS20070623S0070.fits[SCI,2]    1.5  60398.  0.962\n",
      "  gsS20070623S0080.fits[SCI,2]    1.5  61920.  0.938\n",
      "  gsS20070623S0090.fits[SCI,2]    1.5  60759.  0.956\n",
      "  gsS20070624S0066.fits[SCI,2]    1.5  62693.  0.927\n",
      "  gsS20070624S0075.fits[SCI,2]    1.5  58556.  0.992\n",
      "  gsS20070724S0042.fits[SCI,2]    1.5  46142.  1.259\n",
      "\n",
      "  Output image = tmpcombout26692_853, ncombine = 7\n",
      "  Number rejected mask = tmpcombdq26692_854.pl\n",
      "  Sigma image = tmpcombsig26692_855\n",
      "\n",
      "Oct 31 18:00: IMCOMBINE\n",
      "  combine = average, scale = mean, zero = none, weight = none\n",
      "  reject = avsigclip, mclip = yes, nkeep = 0\n",
      "  lsigma = 3., hsigma = 3.\n",
      "  blank = 0.\n",
      "  statsec = Oct 31 18:00\n",
      "                Images     Exp    Mean  Scale\n",
      "  gsS20070623S0061.fits[SCI,3]    1.5  10360.  1.000\n",
      "  gsS20070623S0070.fits[SCI,3]    1.5  10814.  0.958\n",
      "  gsS20070623S0080.fits[SCI,3]    1.5  11028.  0.939\n",
      "  gsS20070623S0090.fits[SCI,3]    1.5  10856.  0.954\n",
      "  gsS20070624S0066.fits[SCI,3]    1.5  11117.  0.932\n",
      "  gsS20070624S0075.fits[SCI,3]    1.5  10418.  0.994\n",
      "  gsS20070724S0042.fits[SCI,3]    1.5  8568.4  1.209\n",
      "\n",
      "  Output image = tmpcombout26692_857, ncombine = 7\n",
      "  Number rejected mask = tmpcombdq26692_858.pl\n",
      "  Sigma image = tmpcombsig26692_859\n",
      "GEMCOMBINE: Attaching the MDF\n",
      " \n",
      "GEMCOMBINE -- Finished: Wed Oct 31 18:00:37 CDT 2018\n",
      " \n",
      "GEMCOMBINE -- Exit status: GOOD\n",
      "--------------------------------------------------------------------------------\n",
      " \n",
      "GSFLAT done Wed Oct 31 18:00:38 CDT 2018\n",
      "GPREPARE: Using MDF defined in the header 1.0arcsec\n",
      "WARNING - GIREDUCE: Bad Pixel Mask filename is an empty string\n",
      "                    Only saturated pixels will be flagged\n",
      "WARNING - GSFLAT: only one image.\n",
      " \n",
      "GSFLAT done Wed Oct 31 18:00:45 CDT 2018\n"
     ]
    }
   ],
   "source": [
    "# Set the task parameters.\n",
    "qd['Full'].update({'DateObs':'*'})\n",
    "qd['CenSp'].update({'DateObs':'*'})\n",
    "gmos.gireduce.unlearn()\n",
    "gmos.gsflat.unlearn()\n",
    "# The response fitting should be done interactively.\n",
    "flatFlags = {\n",
    "    'fl_over':'yes','fl_trim':'yes','fl_bias':'yes','fl_dark':'no',\n",
    "    'fl_fixpix':'no','fl_oversize':'no','fl_vardq':'yes','fl_fulldq':'yes',\n",
    "    'rawpath':'../rawExample/','fl_inter':'no','fl_detec':'yes',\n",
    "    'function':'spline3','order':'13,11,28',\n",
    "    'logfile':'gsflatLog.txt','verbose':'no'\n",
    "    }\n",
    "for r in regions:\n",
    "    qr = qd[r]\n",
    "    flatFiles = fs.fileListQuery(dbFile, fs.createQuery('gcalFlat', qr), qr)\n",
    "    if len(flatFiles) > 0:\n",
    "        gmos.gsflat (','.join(str(x) for x in flatFiles), 'MCflat'+r,\n",
    "                bias='MCbias'+r, **flatFlags)\n"
   ]
  },
  {
   "cell_type": "markdown",
   "metadata": {},
   "source": [
    "# Basic Reduction"
   ]
  },
  {
   "cell_type": "code",
   "execution_count": 24,
   "metadata": {},
   "outputs": [
    {
     "name": "stdout",
     "output_type": "stream",
     "text": [
      "GPREPARE: Using MDF defined in the header 1.0arcsec\n",
      "GPREPARE: Using MDF defined in the header 1.0arcsec\n",
      "GPREPARE: Using MDF defined in the header 1.0arcsec\n",
      "GPREPARE: Using MDF defined in the header 1.0arcsec\n",
      "GPREPARE: Using MDF defined in the header 1.0arcsec\n",
      "GPREPARE: Using MDF defined in the header 1.0arcsec\n",
      "GPREPARE: Using MDF defined in the header 1.0arcsec\n",
      "GPREPARE: Using MDF defined in the header 1.0arcsec\n",
      "GPREPARE: Using MDF defined in the header 1.0arcsec\n",
      "GPREPARE: Using MDF defined in the header 1.0arcsec\n",
      "GPREPARE: Using MDF defined in the header 1.0arcsec\n",
      "WARNING - GIREDUCE: Bad Pixel Mask filename is an empty string\n",
      "                    Only saturated pixels will be flagged\n",
      "GPREPARE: Using MDF defined in the header 1.0arcsec\n",
      "WARNING - GIREDUCE: Bad Pixel Mask filename is an empty string\n",
      "                    Only saturated pixels will be flagged\n",
      "GPREPARE: Using MDF defined in the header 1.0arcsec\n",
      "WARNING - GIREDUCE: Bad Pixel Mask filename is an empty string\n",
      "                    Only saturated pixels will be flagged\n",
      "GPREPARE: Using MDF defined in the header 1.0arcsec\n",
      "WARNING - GIREDUCE: Bad Pixel Mask filename is an empty string\n",
      "                    Only saturated pixels will be flagged\n",
      "GPREPARE: Using MDF defined in the header 1.0arcsec\n",
      "WARNING - GIREDUCE: Bad Pixel Mask filename is an empty string\n",
      "                    Only saturated pixels will be flagged\n",
      "GPREPARE: Using MDF defined in the header 1.0arcsec\n",
      "WARNING - GIREDUCE: Bad Pixel Mask filename is an empty string\n",
      "                    Only saturated pixels will be flagged\n",
      "GPREPARE: Using MDF defined in the header 1.0arcsec\n",
      "WARNING - GIREDUCE: Bad Pixel Mask filename is an empty string\n",
      "                    Only saturated pixels will be flagged\n",
      "GPREPARE: Using MDF defined in the header 1.0arcsec\n",
      "WARNING - GIREDUCE: Bad Pixel Mask filename is an empty string\n",
      "                    Only saturated pixels will be flagged\n",
      "GPREPARE: Using MDF defined in the header 1.0arcsec\n",
      "WARNING - GIREDUCE: Bad Pixel Mask filename is an empty string\n",
      "                    Only saturated pixels will be flagged\n",
      "GPREPARE: Using MDF defined in the header 1.0arcsec\n",
      "WARNING - GIREDUCE: Bad Pixel Mask filename is an empty string\n",
      "                    Only saturated pixels will be flagged\n",
      "GPREPARE: Using MDF defined in the header 1.0arcsec\n",
      "WARNING - GIREDUCE: Bad Pixel Mask filename is an empty string\n",
      "                    Only saturated pixels will be flagged\n",
      "GPREPARE: Using MDF defined in the header 1.0arcsec\n",
      "WARNING - GIREDUCE: Bad Pixel Mask filename is an empty string\n",
      "                    Only saturated pixels will be flagged\n"
     ]
    }
   ],
   "source": [
    "# Set task parameters.\n",
    "gmos.gsreduce.unlearn()\n",
    "sciFlags = {\n",
    "    'fl_over':'yes','fl_trim':'yes','fl_bias':'yes','fl_gscrrej':'no',\n",
    "    'fl_dark':'no','fl_flat':'yes','fl_gmosaic':'yes','fl_fixpix':'no',\n",
    "    'fl_gsappwave':'yes','fl_oversize':'no',\n",
    "    'fl_vardq':'yes','fl_fulldq':'yes','rawpath':'../rawExample/',\n",
    "    'fl_inter':'no','logfile':'gsreduceLog.txt','verbose':'no'\n",
    "}\n",
    "arcFlags = copy.deepcopy(sciFlags)\n",
    "arcFlags.update({'fl_flat':'no','fl_vardq':'no','fl_fulldq':'no'})\n",
    "stdFlags = copy.deepcopy(sciFlags)\n",
    "stdFlags.update({'fl_fixpix':'yes','fl_vardq':'no','fl_fulldq':'no'})\n",
    "\n",
    "# Arc exposures\n",
    "for r in regions:\n",
    "    qr = qd[r]\n",
    "    arcFiles = fs.fileListQuery(dbFile, fs.createQuery('arc', qr), qr)\n",
    "    if len(arcFiles) > 0:\n",
    "        gmos.gsreduce (','.join(str(x) for x in arcFiles), bias='MCbias'+r,\n",
    "                  **arcFlags)\n",
    "\n",
    "# Std star exposures\n",
    "r = 'CenSp'\n",
    "stdFiles = fs.fileListQuery(dbFile, fs.createQuery('std', qd[r]), qd[r])\n",
    "if len(stdFiles) > 0:\n",
    "    gmos.gsreduce (','.join(str(x) for x in stdFiles), bias='MCbias'+r,\n",
    "              flatim='MCflat'+r, **stdFlags)\n",
    "\n",
    "# Science exposures\n",
    "r = 'Full'\n",
    "sciFiles = fs.fileListQuery(dbFile, fs.createQuery('sciSpec', qd[r]), qd[r])\n",
    "if len(sciFiles) > 0:\n",
    "    gmos.gsreduce (','.join(str(x) for x in sciFiles), bias='MCbias'+r,\n",
    "              flatim='MCflat'+r, **sciFlags)"
   ]
  },
  {
   "cell_type": "markdown",
   "metadata": {},
   "source": [
    "# Wavelength Calibration (Check this later)\n",
    "\n",
    "Image rectification and wavelength linearization depend upon the wavelength calibration, using the arc lamp exposures taken immediately before each sequence of science and standard star exposures (see Wavelength Calibration). In this case, the default medium-resolution line list will work well. The fit to the dispersion relation should be performed interactively, but for expediency we will use a previously determined functional fit. \n",
    "\n",
    "\n",
    "I had tpo manually put the name of the two arc Files. I am not sure how may to use. "
   ]
  },
  {
   "cell_type": "code",
   "execution_count": 25,
   "metadata": {},
   "outputs": [],
   "source": [
    "# Set task parameters\n",
    "gmos.gswavelength.unlearn()\n",
    "waveFlags = {\n",
    "    'coordlist':'gmos$data/CuAr_GMOS.dat','fwidth':6,'nsum':50,\n",
    "    'function':'chebyshev','order':5,\n",
    "    'fl_inter':'no','logfile':'gswaveLog.txt','verbose':'no'\n",
    "    }\n",
    "# Must select specific wavecals to match science exposures.\n",
    "prefix = 'gsS20070623S0'\n",
    "for arc in ['071', '081', '091', '109']:\n",
    "     gmos.gswavelength (prefix+arc, **waveFlags)"
   ]
  },
  {
   "cell_type": "markdown",
   "metadata": {},
   "source": [
    "# Advanced Processing\n",
    "\n",
    "The targets in this program were observed in 3 slit orientations, and a few exposures were obtained at each position. This provides an opportunity to combine the sequential exposures at each position to remove cosmic rays, rather than rejecting CRs on single frames using the gsreduce.fl_gscrrej+ flag or running the gemcrspec task. The combined exposures for each target are then wavelength calibrated, and sky subtracted. First set the processing parameters."
   ]
  },
  {
   "cell_type": "code",
   "execution_count": 26,
   "metadata": {},
   "outputs": [],
   "source": [
    "# Set task parameters.\n",
    "gemtools.gemcombine.unlearn()\n",
    "sciCombFlags = {\n",
    "    'combine':'average','reject':'ccdclip',\n",
    "    'fl_vardq':'yes','fl_dqprop':'yes',\n",
    "    'logfile':'gemcombineLog.txt.txt','verbose':'no'\n",
    "}\n",
    "stdCombFlags = copy.deepcopy(sciCombFlags)\n",
    "stdCombFlags.update({'fl_vardq':'no','fl_dqprop':'no'})\n",
    "gmos.gstransform.unlearn()\n",
    "transFlags = {\n",
    "    'fl_vardq':'yes','interptype':'linear','fl_flux':'yes',\n",
    "    'logfile':'gstransLog.txt'\n",
    "}\n",
    "# The sky regions should be selected with care, using e.g. prows/pcols:\n",
    "#   pcols (\"tAM2306b.fits[SCI]\", 1100, 2040, wy1=40, wy2=320)\n",
    "gmos.gsskysub.unlearn()\n",
    "skyFlags = {\n",
    "    'fl_oversize':'no','fl_vardq':'yes','logfile':'gsskysubLog.txt'\n",
    "}"
   ]
  },
  {
   "cell_type": "markdown",
   "metadata": {},
   "source": [
    "# Science Targets"
   ]
  },
  {
   "cell_type": "code",
   "execution_count": null,
   "metadata": {},
   "outputs": [],
   "source": []
  }
 ],
 "metadata": {
  "kernelspec": {
   "display_name": "Python 2",
   "language": "python",
   "name": "python2"
  },
  "language_info": {
   "codemirror_mode": {
    "name": "ipython",
    "version": 2
   },
   "file_extension": ".py",
   "mimetype": "text/x-python",
   "name": "python",
   "nbconvert_exporter": "python",
   "pygments_lexer": "ipython2",
   "version": "2.7.15"
  }
 },
 "nbformat": 4,
 "nbformat_minor": 2
}
